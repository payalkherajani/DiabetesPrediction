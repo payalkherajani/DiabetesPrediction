{
 "cells": [
  {
   "cell_type": "code",
   "execution_count": 1,
   "metadata": {
    "_cell_guid": "b1076dfc-b9ad-4769-8c92-a6c4dae69d19",
    "_uuid": "8f2839f25d086af736a60e9eeb907d3b93b6e0e5"
   },
   "outputs": [],
   "source": [
    "import numpy as np\n",
    "import pandas as pd\n",
    "import matplotlib.pyplot as plt"
   ]
  },
  {
   "cell_type": "code",
   "execution_count": 2,
   "metadata": {
    "_cell_guid": "79c7e3d0-c299-4dcb-8224-4455121ee9b0",
    "_uuid": "d629ff2d2480ee46fbb7e2d37f6b5fab8052498a"
   },
   "outputs": [],
   "source": [
    "df=pd.read_csv(\"/kaggle/input/pima-indians-diabetes-database/diabetes.csv\")"
   ]
  },
  {
   "cell_type": "code",
   "execution_count": 3,
   "metadata": {},
   "outputs": [
    {
     "data": {
      "text/html": [
       "<div>\n",
       "<style scoped>\n",
       "    .dataframe tbody tr th:only-of-type {\n",
       "        vertical-align: middle;\n",
       "    }\n",
       "\n",
       "    .dataframe tbody tr th {\n",
       "        vertical-align: top;\n",
       "    }\n",
       "\n",
       "    .dataframe thead th {\n",
       "        text-align: right;\n",
       "    }\n",
       "</style>\n",
       "<table border=\"1\" class=\"dataframe\">\n",
       "  <thead>\n",
       "    <tr style=\"text-align: right;\">\n",
       "      <th></th>\n",
       "      <th>Pregnancies</th>\n",
       "      <th>Glucose</th>\n",
       "      <th>BloodPressure</th>\n",
       "      <th>SkinThickness</th>\n",
       "      <th>Insulin</th>\n",
       "      <th>BMI</th>\n",
       "      <th>DiabetesPedigreeFunction</th>\n",
       "      <th>Age</th>\n",
       "      <th>Outcome</th>\n",
       "    </tr>\n",
       "  </thead>\n",
       "  <tbody>\n",
       "    <tr>\n",
       "      <th>0</th>\n",
       "      <td>6</td>\n",
       "      <td>148</td>\n",
       "      <td>72</td>\n",
       "      <td>35</td>\n",
       "      <td>0</td>\n",
       "      <td>33.6</td>\n",
       "      <td>0.627</td>\n",
       "      <td>50</td>\n",
       "      <td>1</td>\n",
       "    </tr>\n",
       "    <tr>\n",
       "      <th>1</th>\n",
       "      <td>1</td>\n",
       "      <td>85</td>\n",
       "      <td>66</td>\n",
       "      <td>29</td>\n",
       "      <td>0</td>\n",
       "      <td>26.6</td>\n",
       "      <td>0.351</td>\n",
       "      <td>31</td>\n",
       "      <td>0</td>\n",
       "    </tr>\n",
       "    <tr>\n",
       "      <th>2</th>\n",
       "      <td>8</td>\n",
       "      <td>183</td>\n",
       "      <td>64</td>\n",
       "      <td>0</td>\n",
       "      <td>0</td>\n",
       "      <td>23.3</td>\n",
       "      <td>0.672</td>\n",
       "      <td>32</td>\n",
       "      <td>1</td>\n",
       "    </tr>\n",
       "    <tr>\n",
       "      <th>3</th>\n",
       "      <td>1</td>\n",
       "      <td>89</td>\n",
       "      <td>66</td>\n",
       "      <td>23</td>\n",
       "      <td>94</td>\n",
       "      <td>28.1</td>\n",
       "      <td>0.167</td>\n",
       "      <td>21</td>\n",
       "      <td>0</td>\n",
       "    </tr>\n",
       "    <tr>\n",
       "      <th>4</th>\n",
       "      <td>0</td>\n",
       "      <td>137</td>\n",
       "      <td>40</td>\n",
       "      <td>35</td>\n",
       "      <td>168</td>\n",
       "      <td>43.1</td>\n",
       "      <td>2.288</td>\n",
       "      <td>33</td>\n",
       "      <td>1</td>\n",
       "    </tr>\n",
       "    <tr>\n",
       "      <th>5</th>\n",
       "      <td>5</td>\n",
       "      <td>116</td>\n",
       "      <td>74</td>\n",
       "      <td>0</td>\n",
       "      <td>0</td>\n",
       "      <td>25.6</td>\n",
       "      <td>0.201</td>\n",
       "      <td>30</td>\n",
       "      <td>0</td>\n",
       "    </tr>\n",
       "    <tr>\n",
       "      <th>6</th>\n",
       "      <td>3</td>\n",
       "      <td>78</td>\n",
       "      <td>50</td>\n",
       "      <td>32</td>\n",
       "      <td>88</td>\n",
       "      <td>31.0</td>\n",
       "      <td>0.248</td>\n",
       "      <td>26</td>\n",
       "      <td>1</td>\n",
       "    </tr>\n",
       "    <tr>\n",
       "      <th>7</th>\n",
       "      <td>10</td>\n",
       "      <td>115</td>\n",
       "      <td>0</td>\n",
       "      <td>0</td>\n",
       "      <td>0</td>\n",
       "      <td>35.3</td>\n",
       "      <td>0.134</td>\n",
       "      <td>29</td>\n",
       "      <td>0</td>\n",
       "    </tr>\n",
       "    <tr>\n",
       "      <th>8</th>\n",
       "      <td>2</td>\n",
       "      <td>197</td>\n",
       "      <td>70</td>\n",
       "      <td>45</td>\n",
       "      <td>543</td>\n",
       "      <td>30.5</td>\n",
       "      <td>0.158</td>\n",
       "      <td>53</td>\n",
       "      <td>1</td>\n",
       "    </tr>\n",
       "    <tr>\n",
       "      <th>9</th>\n",
       "      <td>8</td>\n",
       "      <td>125</td>\n",
       "      <td>96</td>\n",
       "      <td>0</td>\n",
       "      <td>0</td>\n",
       "      <td>0.0</td>\n",
       "      <td>0.232</td>\n",
       "      <td>54</td>\n",
       "      <td>1</td>\n",
       "    </tr>\n",
       "  </tbody>\n",
       "</table>\n",
       "</div>"
      ],
      "text/plain": [
       "   Pregnancies  Glucose  BloodPressure  SkinThickness  Insulin   BMI  \\\n",
       "0            6      148             72             35        0  33.6   \n",
       "1            1       85             66             29        0  26.6   \n",
       "2            8      183             64              0        0  23.3   \n",
       "3            1       89             66             23       94  28.1   \n",
       "4            0      137             40             35      168  43.1   \n",
       "5            5      116             74              0        0  25.6   \n",
       "6            3       78             50             32       88  31.0   \n",
       "7           10      115              0              0        0  35.3   \n",
       "8            2      197             70             45      543  30.5   \n",
       "9            8      125             96              0        0   0.0   \n",
       "\n",
       "   DiabetesPedigreeFunction  Age  Outcome  \n",
       "0                     0.627   50        1  \n",
       "1                     0.351   31        0  \n",
       "2                     0.672   32        1  \n",
       "3                     0.167   21        0  \n",
       "4                     2.288   33        1  \n",
       "5                     0.201   30        0  \n",
       "6                     0.248   26        1  \n",
       "7                     0.134   29        0  \n",
       "8                     0.158   53        1  \n",
       "9                     0.232   54        1  "
      ]
     },
     "execution_count": 3,
     "metadata": {},
     "output_type": "execute_result"
    }
   ],
   "source": [
    "df.head(10)"
   ]
  },
  {
   "cell_type": "code",
   "execution_count": 4,
   "metadata": {},
   "outputs": [
    {
     "data": {
      "text/plain": [
       "Pregnancies                 0\n",
       "Glucose                     0\n",
       "BloodPressure               0\n",
       "SkinThickness               0\n",
       "Insulin                     0\n",
       "BMI                         0\n",
       "DiabetesPedigreeFunction    0\n",
       "Age                         0\n",
       "Outcome                     0\n",
       "dtype: int64"
      ]
     },
     "execution_count": 4,
     "metadata": {},
     "output_type": "execute_result"
    }
   ],
   "source": [
    "df.isnull().sum()"
   ]
  },
  {
   "cell_type": "code",
   "execution_count": 5,
   "metadata": {},
   "outputs": [],
   "source": [
    "import seaborn as sns"
   ]
  },
  {
   "cell_type": "code",
   "execution_count": 6,
   "metadata": {},
   "outputs": [
    {
     "data": {
      "text/plain": [
       "<matplotlib.axes._subplots.AxesSubplot at 0x7fab751a0828>"
      ]
     },
     "execution_count": 6,
     "metadata": {},
     "output_type": "execute_result"
    },
    {
     "data": {
      "image/png": "[encoded data removed]",
      "text/plain": [
       "<Figure size 432x288 with 1 Axes>"
      ]
     },
     "metadata": {
      "needs_background": "light"
     },
     "output_type": "display_data"
    }
   ],
   "source": [
    "sns.boxplot(df['Pregnancies'])"
   ]
  },
  {
   "cell_type": "code",
   "execution_count": 7,
   "metadata": {},
   "outputs": [],
   "source": [
    "df[['Glucose','BloodPressure','SkinThickness','Insulin','BMI']] = df[['Glucose','BloodPressure','SkinThickness','Insulin','BMI']].replace(0,np.NaN)"
   ]
  },
  {
   "cell_type": "code",
   "execution_count": 8,
   "metadata": {},
   "outputs": [
    {
     "data": {
      "text/plain": [
       "Pregnancies                   0\n",
       "Glucose                       5\n",
       "BloodPressure                35\n",
       "SkinThickness               227\n",
       "Insulin                     374\n",
       "BMI                          11\n",
       "DiabetesPedigreeFunction      0\n",
       "Age                           0\n",
       "Outcome                       0\n",
       "dtype: int64"
      ]
     },
     "execution_count": 8,
     "metadata": {},
     "output_type": "execute_result"
    }
   ],
   "source": [
    "df.isnull().sum()"
   ]
  },
  {
   "cell_type": "code",
   "execution_count": 9,
   "metadata": {},
   "outputs": [],
   "source": [
    "def median_target(var):   \n",
    "    temp = df[df[var].notnull()]\n",
    "    temp = temp[[var, 'Outcome']].groupby(['Outcome'])[[var]].median().reset_index()\n",
    "    return temp"
   ]
  },
  {
   "cell_type": "code",
   "execution_count": 10,
   "metadata": {},
   "outputs": [
    {
     "data": {
      "text/html": [
       "<div>\n",
       "<style scoped>\n",
       "    .dataframe tbody tr th:only-of-type {\n",
       "        vertical-align: middle;\n",
       "    }\n",
       "\n",
       "    .dataframe tbody tr th {\n",
       "        vertical-align: top;\n",
       "    }\n",
       "\n",
       "    .dataframe thead th {\n",
       "        text-align: right;\n",
       "    }\n",
       "</style>\n",
       "<table border=\"1\" class=\"dataframe\">\n",
       "  <thead>\n",
       "    <tr style=\"text-align: right;\">\n",
       "      <th></th>\n",
       "      <th>Outcome</th>\n",
       "      <th>Insulin</th>\n",
       "    </tr>\n",
       "  </thead>\n",
       "  <tbody>\n",
       "    <tr>\n",
       "      <th>0</th>\n",
       "      <td>0</td>\n",
       "      <td>102.5</td>\n",
       "    </tr>\n",
       "    <tr>\n",
       "      <th>1</th>\n",
       "      <td>1</td>\n",
       "      <td>169.5</td>\n",
       "    </tr>\n",
       "  </tbody>\n",
       "</table>\n",
       "</div>"
      ],
      "text/plain": [
       "   Outcome  Insulin\n",
       "0        0    102.5\n",
       "1        1    169.5"
      ]
     },
     "execution_count": 10,
     "metadata": {},
     "output_type": "execute_result"
    }
   ],
   "source": [
    "median_target('Insulin')"
   ]
  },
  {
   "cell_type": "code",
   "execution_count": 11,
   "metadata": {},
   "outputs": [],
   "source": [
    "df.loc[(df['Outcome'] == 0 ) & (df['Insulin'].isnull()), 'Insulin'] = 102.5\n",
    "df.loc[(df['Outcome'] == 1 ) & (df['Insulin'].isnull()), 'Insulin'] = 169.5"
   ]
  },
  {
   "cell_type": "code",
   "execution_count": 12,
   "metadata": {},
   "outputs": [
    {
     "data": {
      "text/html": [
       "<div>\n",
       "<style scoped>\n",
       "    .dataframe tbody tr th:only-of-type {\n",
       "        vertical-align: middle;\n",
       "    }\n",
       "\n",
       "    .dataframe tbody tr th {\n",
       "        vertical-align: top;\n",
       "    }\n",
       "\n",
       "    .dataframe thead th {\n",
       "        text-align: right;\n",
       "    }\n",
       "</style>\n",
       "<table border=\"1\" class=\"dataframe\">\n",
       "  <thead>\n",
       "    <tr style=\"text-align: right;\">\n",
       "      <th></th>\n",
       "      <th>Outcome</th>\n",
       "      <th>Glucose</th>\n",
       "    </tr>\n",
       "  </thead>\n",
       "  <tbody>\n",
       "    <tr>\n",
       "      <th>0</th>\n",
       "      <td>0</td>\n",
       "      <td>107.0</td>\n",
       "    </tr>\n",
       "    <tr>\n",
       "      <th>1</th>\n",
       "      <td>1</td>\n",
       "      <td>140.0</td>\n",
       "    </tr>\n",
       "  </tbody>\n",
       "</table>\n",
       "</div>"
      ],
      "text/plain": [
       "   Outcome  Glucose\n",
       "0        0    107.0\n",
       "1        1    140.0"
      ]
     },
     "execution_count": 12,
     "metadata": {},
     "output_type": "execute_result"
    }
   ],
   "source": [
    "median_target('Glucose')"
   ]
  },
  {
   "cell_type": "code",
   "execution_count": 13,
   "metadata": {},
   "outputs": [],
   "source": [
    "df.loc[(df['Outcome'] == 0 ) & (df['Glucose'].isnull()), 'Glucose'] = 107\n",
    "df.loc[(df['Outcome'] == 1 ) & (df['Glucose'].isnull()), 'Glucose'] = 140"
   ]
  },
  {
   "cell_type": "code",
   "execution_count": 14,
   "metadata": {},
   "outputs": [
    {
     "data": {
      "text/html": [
       "<div>\n",
       "<style scoped>\n",
       "    .dataframe tbody tr th:only-of-type {\n",
       "        vertical-align: middle;\n",
       "    }\n",
       "\n",
       "    .dataframe tbody tr th {\n",
       "        vertical-align: top;\n",
       "    }\n",
       "\n",
       "    .dataframe thead th {\n",
       "        text-align: right;\n",
       "    }\n",
       "</style>\n",
       "<table border=\"1\" class=\"dataframe\">\n",
       "  <thead>\n",
       "    <tr style=\"text-align: right;\">\n",
       "      <th></th>\n",
       "      <th>Outcome</th>\n",
       "      <th>SkinThickness</th>\n",
       "    </tr>\n",
       "  </thead>\n",
       "  <tbody>\n",
       "    <tr>\n",
       "      <th>0</th>\n",
       "      <td>0</td>\n",
       "      <td>27.0</td>\n",
       "    </tr>\n",
       "    <tr>\n",
       "      <th>1</th>\n",
       "      <td>1</td>\n",
       "      <td>32.0</td>\n",
       "    </tr>\n",
       "  </tbody>\n",
       "</table>\n",
       "</div>"
      ],
      "text/plain": [
       "   Outcome  SkinThickness\n",
       "0        0           27.0\n",
       "1        1           32.0"
      ]
     },
     "execution_count": 14,
     "metadata": {},
     "output_type": "execute_result"
    }
   ],
   "source": [
    "median_target('SkinThickness')"
   ]
  },
  {
   "cell_type": "code",
   "execution_count": 15,
   "metadata": {},
   "outputs": [],
   "source": [
    "df.loc[(df['Outcome'] == 0 ) & (df['SkinThickness'].isnull()), 'SkinThickness'] = 27\n",
    "df.loc[(df['Outcome'] == 1 ) & (df['SkinThickness'].isnull()), 'SkinThickness'] = 32"
   ]
  },
  {
   "cell_type": "code",
   "execution_count": 16,
   "metadata": {},
   "outputs": [
    {
     "data": {
      "text/html": [
       "<div>\n",
       "<style scoped>\n",
       "    .dataframe tbody tr th:only-of-type {\n",
       "        vertical-align: middle;\n",
       "    }\n",
       "\n",
       "    .dataframe tbody tr th {\n",
       "        vertical-align: top;\n",
       "    }\n",
       "\n",
       "    .dataframe thead th {\n",
       "        text-align: right;\n",
       "    }\n",
       "</style>\n",
       "<table border=\"1\" class=\"dataframe\">\n",
       "  <thead>\n",
       "    <tr style=\"text-align: right;\">\n",
       "      <th></th>\n",
       "      <th>Outcome</th>\n",
       "      <th>BloodPressure</th>\n",
       "    </tr>\n",
       "  </thead>\n",
       "  <tbody>\n",
       "    <tr>\n",
       "      <th>0</th>\n",
       "      <td>0</td>\n",
       "      <td>70.0</td>\n",
       "    </tr>\n",
       "    <tr>\n",
       "      <th>1</th>\n",
       "      <td>1</td>\n",
       "      <td>74.5</td>\n",
       "    </tr>\n",
       "  </tbody>\n",
       "</table>\n",
       "</div>"
      ],
      "text/plain": [
       "   Outcome  BloodPressure\n",
       "0        0           70.0\n",
       "1        1           74.5"
      ]
     },
     "execution_count": 16,
     "metadata": {},
     "output_type": "execute_result"
    }
   ],
   "source": [
    "median_target('BloodPressure')"
   ]
  },
  {
   "cell_type": "code",
   "execution_count": 17,
   "metadata": {},
   "outputs": [],
   "source": [
    "df.loc[(df['Outcome'] == 0 ) & (df['BloodPressure'].isnull()), 'BloodPressure'] = 70\n",
    "df.loc[(df['Outcome'] == 1 ) & (df['BloodPressure'].isnull()), 'BloodPressure'] = 74.5"
   ]
  },
  {
   "cell_type": "code",
   "execution_count": 18,
   "metadata": {},
   "outputs": [
    {
     "data": {
      "text/html": [
       "<div>\n",
       "<style scoped>\n",
       "    .dataframe tbody tr th:only-of-type {\n",
       "        vertical-align: middle;\n",
       "    }\n",
       "\n",
       "    .dataframe tbody tr th {\n",
       "        vertical-align: top;\n",
       "    }\n",
       "\n",
       "    .dataframe thead th {\n",
       "        text-align: right;\n",
       "    }\n",
       "</style>\n",
       "<table border=\"1\" class=\"dataframe\">\n",
       "  <thead>\n",
       "    <tr style=\"text-align: right;\">\n",
       "      <th></th>\n",
       "      <th>Outcome</th>\n",
       "      <th>BMI</th>\n",
       "    </tr>\n",
       "  </thead>\n",
       "  <tbody>\n",
       "    <tr>\n",
       "      <th>0</th>\n",
       "      <td>0</td>\n",
       "      <td>30.1</td>\n",
       "    </tr>\n",
       "    <tr>\n",
       "      <th>1</th>\n",
       "      <td>1</td>\n",
       "      <td>34.3</td>\n",
       "    </tr>\n",
       "  </tbody>\n",
       "</table>\n",
       "</div>"
      ],
      "text/plain": [
       "   Outcome   BMI\n",
       "0        0  30.1\n",
       "1        1  34.3"
      ]
     },
     "execution_count": 18,
     "metadata": {},
     "output_type": "execute_result"
    }
   ],
   "source": [
    "median_target('BMI')"
   ]
  },
  {
   "cell_type": "code",
   "execution_count": 19,
   "metadata": {},
   "outputs": [],
   "source": [
    "df.loc[(df['Outcome'] == 0 ) & (df['BMI'].isnull()), 'BMI'] = 30.1\n",
    "df.loc[(df['Outcome'] == 1 ) & (df['BMI'].isnull()), 'BMI'] = 34.3"
   ]
  },
  {
   "cell_type": "code",
   "execution_count": 20,
   "metadata": {},
   "outputs": [],
   "source": [
    "df.loc[:,'N1']=0\n",
    "df.loc[(df['Age']<=30) & (df['Glucose']<=120),'N1']=1"
   ]
  },
  {
   "cell_type": "code",
   "execution_count": 21,
   "metadata": {},
   "outputs": [],
   "source": [
    "df.loc[:,'N2']=0\n",
    "df.loc[(df['BMI']<=30),'N2']=1"
   ]
  },
  {
   "cell_type": "code",
   "execution_count": 22,
   "metadata": {},
   "outputs": [],
   "source": [
    "df.loc[:,'N3']=0\n",
    "df.loc[(df['Age']<=30) & (df['Pregnancies']<=6),'N3']=1"
   ]
  },
  {
   "cell_type": "code",
   "execution_count": 23,
   "metadata": {},
   "outputs": [],
   "source": [
    "df.loc[:,'N4']=0\n",
    "df.loc[(df['Glucose']<=105) & (df['BloodPressure']<=80),'N4']=1"
   ]
  },
  {
   "cell_type": "code",
   "execution_count": 24,
   "metadata": {},
   "outputs": [],
   "source": [
    "df.loc[:,'N5']=0\n",
    "df.loc[(df['SkinThickness']<=20) ,'N5']=1"
   ]
  },
  {
   "cell_type": "code",
   "execution_count": 25,
   "metadata": {},
   "outputs": [],
   "source": [
    "df.loc[:,'N6']=0\n",
    "df.loc[(df['BMI']<30) & (df['SkinThickness']<=20),'N6']=1"
   ]
  },
  {
   "cell_type": "code",
   "execution_count": 26,
   "metadata": {},
   "outputs": [],
   "source": [
    "df.loc[:,'N7']=0\n",
    "df.loc[(df['Glucose']<=105) & (df['BMI']<=30),'N7']=1"
   ]
  },
  {
   "cell_type": "code",
   "execution_count": 27,
   "metadata": {},
   "outputs": [],
   "source": [
    "df.loc[:,'N9']=0\n",
    "df.loc[(df['Insulin']<200),'N9']=1"
   ]
  },
  {
   "cell_type": "code",
   "execution_count": 28,
   "metadata": {},
   "outputs": [],
   "source": [
    "df.loc[:,'N10']=0\n",
    "df.loc[(df['BloodPressure']<80),'N10']=1"
   ]
  },
  {
   "cell_type": "code",
   "execution_count": 29,
   "metadata": {},
   "outputs": [],
   "source": [
    "df.loc[:,'N11']=0\n",
    "df.loc[(df['Pregnancies']<4) & (df['Pregnancies']!=0) ,'N11']=1"
   ]
  },
  {
   "cell_type": "code",
   "execution_count": 30,
   "metadata": {},
   "outputs": [],
   "source": [
    "df['N0'] = df['BMI'] * df['SkinThickness']\n",
    "\n",
    "df['N8'] =  df['Pregnancies'] / df['Age']\n",
    "\n",
    "df['N13'] = df['Glucose'] / df['DiabetesPedigreeFunction']\n",
    "\n",
    "df['N12'] = df['Age'] * df['DiabetesPedigreeFunction']\n",
    "\n",
    "df['N14'] = df['Age'] / df['Insulin']\n"
   ]
  },
  {
   "cell_type": "code",
   "execution_count": 31,
   "metadata": {},
   "outputs": [],
   "source": [
    "df.loc[:,'N15']=0\n",
    "df.loc[(df['N0']<1034) ,'N15']=1"
   ]
  },
  {
   "cell_type": "code",
   "execution_count": 32,
   "metadata": {},
   "outputs": [
    {
     "data": {
      "text/html": [
       "<div>\n",
       "<style scoped>\n",
       "    .dataframe tbody tr th:only-of-type {\n",
       "        vertical-align: middle;\n",
       "    }\n",
       "\n",
       "    .dataframe tbody tr th {\n",
       "        vertical-align: top;\n",
       "    }\n",
       "\n",
       "    .dataframe thead th {\n",
       "        text-align: right;\n",
       "    }\n",
       "</style>\n",
       "<table border=\"1\" class=\"dataframe\">\n",
       "  <thead>\n",
       "    <tr style=\"text-align: right;\">\n",
       "      <th></th>\n",
       "      <th>Pregnancies</th>\n",
       "      <th>Glucose</th>\n",
       "      <th>BloodPressure</th>\n",
       "      <th>SkinThickness</th>\n",
       "      <th>Insulin</th>\n",
       "      <th>BMI</th>\n",
       "      <th>DiabetesPedigreeFunction</th>\n",
       "      <th>Age</th>\n",
       "      <th>Outcome</th>\n",
       "      <th>N1</th>\n",
       "      <th>...</th>\n",
       "      <th>N7</th>\n",
       "      <th>N9</th>\n",
       "      <th>N10</th>\n",
       "      <th>N11</th>\n",
       "      <th>N0</th>\n",
       "      <th>N8</th>\n",
       "      <th>N13</th>\n",
       "      <th>N12</th>\n",
       "      <th>N14</th>\n",
       "      <th>N15</th>\n",
       "    </tr>\n",
       "  </thead>\n",
       "  <tbody>\n",
       "    <tr>\n",
       "      <th>0</th>\n",
       "      <td>6</td>\n",
       "      <td>148.0</td>\n",
       "      <td>72.0</td>\n",
       "      <td>35.0</td>\n",
       "      <td>169.5</td>\n",
       "      <td>33.6</td>\n",
       "      <td>0.627</td>\n",
       "      <td>50</td>\n",
       "      <td>1</td>\n",
       "      <td>0</td>\n",
       "      <td>...</td>\n",
       "      <td>0</td>\n",
       "      <td>1</td>\n",
       "      <td>1</td>\n",
       "      <td>0</td>\n",
       "      <td>1176.0</td>\n",
       "      <td>0.120000</td>\n",
       "      <td>236.044657</td>\n",
       "      <td>31.350</td>\n",
       "      <td>0.294985</td>\n",
       "      <td>0</td>\n",
       "    </tr>\n",
       "    <tr>\n",
       "      <th>1</th>\n",
       "      <td>1</td>\n",
       "      <td>85.0</td>\n",
       "      <td>66.0</td>\n",
       "      <td>29.0</td>\n",
       "      <td>102.5</td>\n",
       "      <td>26.6</td>\n",
       "      <td>0.351</td>\n",
       "      <td>31</td>\n",
       "      <td>0</td>\n",
       "      <td>0</td>\n",
       "      <td>...</td>\n",
       "      <td>1</td>\n",
       "      <td>1</td>\n",
       "      <td>1</td>\n",
       "      <td>1</td>\n",
       "      <td>771.4</td>\n",
       "      <td>0.032258</td>\n",
       "      <td>242.165242</td>\n",
       "      <td>10.881</td>\n",
       "      <td>0.302439</td>\n",
       "      <td>1</td>\n",
       "    </tr>\n",
       "    <tr>\n",
       "      <th>2</th>\n",
       "      <td>8</td>\n",
       "      <td>183.0</td>\n",
       "      <td>64.0</td>\n",
       "      <td>32.0</td>\n",
       "      <td>169.5</td>\n",
       "      <td>23.3</td>\n",
       "      <td>0.672</td>\n",
       "      <td>32</td>\n",
       "      <td>1</td>\n",
       "      <td>0</td>\n",
       "      <td>...</td>\n",
       "      <td>0</td>\n",
       "      <td>1</td>\n",
       "      <td>1</td>\n",
       "      <td>0</td>\n",
       "      <td>745.6</td>\n",
       "      <td>0.250000</td>\n",
       "      <td>272.321429</td>\n",
       "      <td>21.504</td>\n",
       "      <td>0.188791</td>\n",
       "      <td>1</td>\n",
       "    </tr>\n",
       "    <tr>\n",
       "      <th>3</th>\n",
       "      <td>1</td>\n",
       "      <td>89.0</td>\n",
       "      <td>66.0</td>\n",
       "      <td>23.0</td>\n",
       "      <td>94.0</td>\n",
       "      <td>28.1</td>\n",
       "      <td>0.167</td>\n",
       "      <td>21</td>\n",
       "      <td>0</td>\n",
       "      <td>1</td>\n",
       "      <td>...</td>\n",
       "      <td>1</td>\n",
       "      <td>1</td>\n",
       "      <td>1</td>\n",
       "      <td>1</td>\n",
       "      <td>646.3</td>\n",
       "      <td>0.047619</td>\n",
       "      <td>532.934132</td>\n",
       "      <td>3.507</td>\n",
       "      <td>0.223404</td>\n",
       "      <td>1</td>\n",
       "    </tr>\n",
       "    <tr>\n",
       "      <th>4</th>\n",
       "      <td>0</td>\n",
       "      <td>137.0</td>\n",
       "      <td>40.0</td>\n",
       "      <td>35.0</td>\n",
       "      <td>168.0</td>\n",
       "      <td>43.1</td>\n",
       "      <td>2.288</td>\n",
       "      <td>33</td>\n",
       "      <td>1</td>\n",
       "      <td>0</td>\n",
       "      <td>...</td>\n",
       "      <td>0</td>\n",
       "      <td>1</td>\n",
       "      <td>1</td>\n",
       "      <td>0</td>\n",
       "      <td>1508.5</td>\n",
       "      <td>0.000000</td>\n",
       "      <td>59.877622</td>\n",
       "      <td>75.504</td>\n",
       "      <td>0.196429</td>\n",
       "      <td>0</td>\n",
       "    </tr>\n",
       "  </tbody>\n",
       "</table>\n",
       "<p>5 rows × 25 columns</p>\n",
       "</div>"
      ],
      "text/plain": [
       "   Pregnancies  Glucose  BloodPressure  SkinThickness  Insulin   BMI  \\\n",
       "0            6    148.0           72.0           35.0    169.5  33.6   \n",
       "1            1     85.0           66.0           29.0    102.5  26.6   \n",
       "2            8    183.0           64.0           32.0    169.5  23.3   \n",
       "3            1     89.0           66.0           23.0     94.0  28.1   \n",
       "4            0    137.0           40.0           35.0    168.0  43.1   \n",
       "\n",
       "   DiabetesPedigreeFunction  Age  Outcome  N1  ...  N7  N9  N10  N11      N0  \\\n",
       "0                     0.627   50        1   0  ...   0   1    1    0  1176.0   \n",
       "1                     0.351   31        0   0  ...   1   1    1    1   771.4   \n",
       "2                     0.672   32        1   0  ...   0   1    1    0   745.6   \n",
       "3                     0.167   21        0   1  ...   1   1    1    1   646.3   \n",
       "4                     2.288   33        1   0  ...   0   1    1    0  1508.5   \n",
       "\n",
       "         N8         N13     N12       N14  N15  \n",
       "0  0.120000  236.044657  31.350  0.294985    0  \n",
       "1  0.032258  242.165242  10.881  0.302439    1  \n",
       "2  0.250000  272.321429  21.504  0.188791    1  \n",
       "3  0.047619  532.934132   3.507  0.223404    1  \n",
       "4  0.000000   59.877622  75.504  0.196429    0  \n",
       "\n",
       "[5 rows x 25 columns]"
      ]
     },
     "execution_count": 32,
     "metadata": {},
     "output_type": "execute_result"
    }
   ],
   "source": [
    "df.head()"
   ]
  },
  {
   "cell_type": "markdown",
   "metadata": {},
   "source": [
    "pd.set_option('display.max_rows', 500)\n",
    "pd.set_option('display.max_columns', 500)\n",
    "pd.set_option('display.width', 1000)"
   ]
  },
  {
   "cell_type": "code",
   "execution_count": 33,
   "metadata": {},
   "outputs": [
    {
     "data": {
      "text/plain": [
       "(768, 25)"
      ]
     },
     "execution_count": 33,
     "metadata": {},
     "output_type": "execute_result"
    }
   ],
   "source": [
    "df.shape"
   ]
  },
  {
   "cell_type": "code",
   "execution_count": 34,
   "metadata": {},
   "outputs": [],
   "source": [
    " from sklearn.preprocessing import StandardScaler"
   ]
  },
  {
   "cell_type": "code",
   "execution_count": 35,
   "metadata": {},
   "outputs": [],
   "source": [
    "X = df.drop(['Outcome'], 1)\n",
    "y = df['Outcome']"
   ]
  },
  {
   "cell_type": "code",
   "execution_count": 36,
   "metadata": {},
   "outputs": [],
   "source": [
    "from sklearn.model_selection import train_test_split\n",
    "from sklearn.metrics import confusion_matrix,classification_report,roc_curve,accuracy_score\n",
    "x_train,x_test,y_train,y_test=train_test_split(X,y,test_size=0.2,random_state=0)"
   ]
  },
  {
   "cell_type": "code",
   "execution_count": 37,
   "metadata": {},
   "outputs": [],
   "source": [
    "std = StandardScaler()\n",
    "x_train = std.fit_transform(x_train)\n",
    "x_test = std.transform(x_test)"
   ]
  },
  {
   "cell_type": "code",
   "execution_count": 38,
   "metadata": {},
   "outputs": [
    {
     "name": "stderr",
     "output_type": "stream",
     "text": [
      "Using TensorFlow backend.\n"
     ]
    }
   ],
   "source": [
    "from keras.utils import np_utils\n",
    "from keras.models import Sequential, load_model\n",
    "from keras.layers import Dense, Dropout, Activation, Conv2D,MaxPooling2D, Flatten"
   ]
  },
  {
   "cell_type": "code",
   "execution_count": 39,
   "metadata": {},
   "outputs": [],
   "source": [
    "model = Sequential()\n",
    "model.add(Dense(32,input_shape=(x_train.shape[1],)))\n",
    "model.add(Activation('relu'))\n",
    "model.add(Dense(64,input_shape=(x_train.shape[1],)))\n",
    "model.add(Activation('relu'))\n",
    "model.add(Dense(64,input_shape=(x_train.shape[1],)))\n",
    "model.add(Activation('relu'))\n",
    "model.add(Dense(128,input_shape=(x_train.shape[1],)))\n",
    "model.add(Activation('relu'))\n",
    "model.add(Dense(128,input_shape=(x_train.shape[1],)))\n",
    "model.add(Activation('relu'))\n",
    "model.add(Dense(256,input_shape=(x_train.shape[1],)))\n",
    "model.add(Activation('relu'))\n",
    "model.add(Dense(256,input_shape=(x_train.shape[1],)))\n",
    "model.add(Activation('relu'))\n",
    "model.add(Dense(2))\n",
    "model.add(Activation('softmax'))"
   ]
  },
  {
   "cell_type": "code",
   "execution_count": 40,
   "metadata": {},
   "outputs": [
    {
     "name": "stdout",
     "output_type": "stream",
     "text": [
      "Model: \"sequential_1\"\n",
      "_________________________________________________________________\n",
      "Layer (type)                 Output Shape              Param #   \n",
      "=================================================================\n",
      "dense_1 (Dense)              (None, 32)                800       \n",
      "_________________________________________________________________\n",
      "activation_1 (Activation)    (None, 32)                0         \n",
      "_________________________________________________________________\n",
      "dense_2 (Dense)              (None, 64)                2112      \n",
      "_________________________________________________________________\n",
      "activation_2 (Activation)    (None, 64)                0         \n",
      "_________________________________________________________________\n",
      "dense_3 (Dense)              (None, 64)                4160      \n",
      "_________________________________________________________________\n",
      "activation_3 (Activation)    (None, 64)                0         \n",
      "_________________________________________________________________\n",
      "dense_4 (Dense)              (None, 128)               8320      \n",
      "_________________________________________________________________\n",
      "activation_4 (Activation)    (None, 128)               0         \n",
      "_________________________________________________________________\n",
      "dense_5 (Dense)              (None, 128)               16512     \n",
      "_________________________________________________________________\n",
      "activation_5 (Activation)    (None, 128)               0         \n",
      "_________________________________________________________________\n",
      "dense_6 (Dense)              (None, 256)               33024     \n",
      "_________________________________________________________________\n",
      "activation_6 (Activation)    (None, 256)               0         \n",
      "_________________________________________________________________\n",
      "dense_7 (Dense)              (None, 256)               65792     \n",
      "_________________________________________________________________\n",
      "activation_7 (Activation)    (None, 256)               0         \n",
      "_________________________________________________________________\n",
      "dense_8 (Dense)              (None, 2)                 514       \n",
      "_________________________________________________________________\n",
      "activation_8 (Activation)    (None, 2)                 0         \n",
      "=================================================================\n",
      "Total params: 131,234\n",
      "Trainable params: 131,234\n",
      "Non-trainable params: 0\n",
      "_________________________________________________________________\n",
      "None\n",
      "Train on 614 samples, validate on 154 samples\n",
      "Epoch 1/200\n",
      "614/614 [==============================] - 1s 2ms/step - loss: 0.6853 - accuracy: 0.5782 - val_loss: 0.6578 - val_accuracy: 0.6948\n",
      "Epoch 2/200\n",
      "614/614 [==============================] - 0s 107us/step - loss: 0.6619 - accuracy: 0.6401 - val_loss: 0.6338 - val_accuracy: 0.6948\n",
      "Epoch 3/200\n",
      "614/614 [==============================] - 0s 102us/step - loss: 0.6491 - accuracy: 0.6401 - val_loss: 0.6192 - val_accuracy: 0.6948\n",
      "Epoch 4/200\n",
      "614/614 [==============================] - 0s 101us/step - loss: 0.6403 - accuracy: 0.6401 - val_loss: 0.6098 - val_accuracy: 0.6948\n",
      "Epoch 5/200\n",
      "614/614 [==============================] - 0s 106us/step - loss: 0.6332 - accuracy: 0.6401 - val_loss: 0.5976 - val_accuracy: 0.6948\n",
      "Epoch 6/200\n",
      "614/614 [==============================] - 0s 120us/step - loss: 0.6248 - accuracy: 0.6401 - val_loss: 0.5866 - val_accuracy: 0.6948\n",
      "Epoch 7/200\n",
      "614/614 [==============================] - 0s 106us/step - loss: 0.6161 - accuracy: 0.6401 - val_loss: 0.5759 - val_accuracy: 0.6948\n",
      "Epoch 8/200\n",
      "614/614 [==============================] - 0s 107us/step - loss: 0.6066 - accuracy: 0.6401 - val_loss: 0.5664 - val_accuracy: 0.6948\n",
      "Epoch 9/200\n",
      "614/614 [==============================] - 0s 124us/step - loss: 0.5954 - accuracy: 0.6401 - val_loss: 0.5497 - val_accuracy: 0.6948\n",
      "Epoch 10/200\n",
      "614/614 [==============================] - 0s 109us/step - loss: 0.5827 - accuracy: 0.6401 - val_loss: 0.5326 - val_accuracy: 0.6948\n",
      "Epoch 11/200\n",
      "614/614 [==============================] - 0s 106us/step - loss: 0.5699 - accuracy: 0.6433 - val_loss: 0.5201 - val_accuracy: 0.7143\n",
      "Epoch 12/200\n",
      "614/614 [==============================] - 0s 111us/step - loss: 0.5560 - accuracy: 0.6889 - val_loss: 0.5026 - val_accuracy: 0.7403\n",
      "Epoch 13/200\n",
      "614/614 [==============================] - 0s 106us/step - loss: 0.5430 - accuracy: 0.7166 - val_loss: 0.4929 - val_accuracy: 0.7403\n",
      "Epoch 14/200\n",
      "614/614 [==============================] - 0s 109us/step - loss: 0.5323 - accuracy: 0.7459 - val_loss: 0.4750 - val_accuracy: 0.7403\n",
      "Epoch 15/200\n",
      "614/614 [==============================] - 0s 120us/step - loss: 0.5198 - accuracy: 0.7557 - val_loss: 0.4596 - val_accuracy: 0.7338\n",
      "Epoch 16/200\n",
      "614/614 [==============================] - 0s 108us/step - loss: 0.5104 - accuracy: 0.7557 - val_loss: 0.4478 - val_accuracy: 0.7403\n",
      "Epoch 17/200\n",
      "614/614 [==============================] - 0s 107us/step - loss: 0.5009 - accuracy: 0.7655 - val_loss: 0.4368 - val_accuracy: 0.7468\n",
      "Epoch 18/200\n",
      "614/614 [==============================] - 0s 127us/step - loss: 0.4930 - accuracy: 0.7752 - val_loss: 0.4293 - val_accuracy: 0.7922\n",
      "Epoch 19/200\n",
      "614/614 [==============================] - 0s 111us/step - loss: 0.4863 - accuracy: 0.7752 - val_loss: 0.4210 - val_accuracy: 0.8052\n",
      "Epoch 20/200\n",
      "614/614 [==============================] - 0s 105us/step - loss: 0.4802 - accuracy: 0.7769 - val_loss: 0.4148 - val_accuracy: 0.7987\n",
      "Epoch 21/200\n",
      "614/614 [==============================] - 0s 113us/step - loss: 0.4747 - accuracy: 0.7785 - val_loss: 0.4108 - val_accuracy: 0.8117\n",
      "Epoch 22/200\n",
      "614/614 [==============================] - 0s 129us/step - loss: 0.4689 - accuracy: 0.7834 - val_loss: 0.4068 - val_accuracy: 0.8052\n",
      "Epoch 23/200\n",
      "614/614 [==============================] - 0s 111us/step - loss: 0.4645 - accuracy: 0.7769 - val_loss: 0.4021 - val_accuracy: 0.7987\n",
      "Epoch 24/200\n",
      "614/614 [==============================] - 0s 106us/step - loss: 0.4595 - accuracy: 0.7818 - val_loss: 0.3984 - val_accuracy: 0.8052\n",
      "Epoch 25/200\n",
      "614/614 [==============================] - 0s 139us/step - loss: 0.4545 - accuracy: 0.7899 - val_loss: 0.3971 - val_accuracy: 0.8377\n",
      "Epoch 26/200\n",
      "614/614 [==============================] - 0s 116us/step - loss: 0.4504 - accuracy: 0.7866 - val_loss: 0.3935 - val_accuracy: 0.8117\n",
      "Epoch 27/200\n",
      "614/614 [==============================] - 0s 105us/step - loss: 0.4463 - accuracy: 0.7964 - val_loss: 0.3905 - val_accuracy: 0.8182\n",
      "Epoch 28/200\n",
      "614/614 [==============================] - 0s 107us/step - loss: 0.4408 - accuracy: 0.7980 - val_loss: 0.3868 - val_accuracy: 0.8247\n",
      "Epoch 29/200\n",
      "614/614 [==============================] - 0s 107us/step - loss: 0.4367 - accuracy: 0.8062 - val_loss: 0.3839 - val_accuracy: 0.8312\n",
      "Epoch 30/200\n",
      "614/614 [==============================] - 0s 106us/step - loss: 0.4315 - accuracy: 0.8094 - val_loss: 0.3828 - val_accuracy: 0.8117\n",
      "Epoch 31/200\n",
      "614/614 [==============================] - 0s 107us/step - loss: 0.4305 - accuracy: 0.8094 - val_loss: 0.3816 - val_accuracy: 0.8312\n",
      "Epoch 32/200\n",
      "614/614 [==============================] - 0s 110us/step - loss: 0.4245 - accuracy: 0.8160 - val_loss: 0.3809 - val_accuracy: 0.8247\n",
      "Epoch 33/200\n",
      "614/614 [==============================] - 0s 107us/step - loss: 0.4202 - accuracy: 0.8225 - val_loss: 0.3829 - val_accuracy: 0.8182\n",
      "Epoch 34/200\n",
      "614/614 [==============================] - 0s 110us/step - loss: 0.4153 - accuracy: 0.8192 - val_loss: 0.3766 - val_accuracy: 0.8182\n",
      "Epoch 35/200\n",
      "614/614 [==============================] - 0s 109us/step - loss: 0.4118 - accuracy: 0.8274 - val_loss: 0.3701 - val_accuracy: 0.8182\n",
      "Epoch 36/200\n",
      "614/614 [==============================] - 0s 116us/step - loss: 0.4061 - accuracy: 0.8355 - val_loss: 0.3722 - val_accuracy: 0.8117\n",
      "Epoch 37/200\n",
      "614/614 [==============================] - 0s 110us/step - loss: 0.4030 - accuracy: 0.8371 - val_loss: 0.3701 - val_accuracy: 0.8117\n",
      "Epoch 38/200\n",
      "614/614 [==============================] - 0s 111us/step - loss: 0.3966 - accuracy: 0.8306 - val_loss: 0.3655 - val_accuracy: 0.8182\n",
      "Epoch 39/200\n",
      "614/614 [==============================] - 0s 97us/step - loss: 0.3944 - accuracy: 0.8322 - val_loss: 0.3645 - val_accuracy: 0.8312\n",
      "Epoch 40/200\n",
      "614/614 [==============================] - 0s 96us/step - loss: 0.3893 - accuracy: 0.8404 - val_loss: 0.3696 - val_accuracy: 0.8247\n",
      "Epoch 41/200\n",
      "614/614 [==============================] - 0s 102us/step - loss: 0.3850 - accuracy: 0.8599 - val_loss: 0.3597 - val_accuracy: 0.8117\n",
      "Epoch 42/200\n",
      "614/614 [==============================] - 0s 105us/step - loss: 0.3785 - accuracy: 0.8550 - val_loss: 0.3617 - val_accuracy: 0.8247\n",
      "Epoch 43/200\n",
      "614/614 [==============================] - 0s 97us/step - loss: 0.3754 - accuracy: 0.8616 - val_loss: 0.3517 - val_accuracy: 0.8182\n",
      "Epoch 44/200\n",
      "614/614 [==============================] - 0s 115us/step - loss: 0.3684 - accuracy: 0.8632 - val_loss: 0.3475 - val_accuracy: 0.8117\n",
      "Epoch 45/200\n",
      "614/614 [==============================] - 0s 104us/step - loss: 0.3655 - accuracy: 0.8599 - val_loss: 0.3471 - val_accuracy: 0.8117\n",
      "Epoch 46/200\n",
      "614/614 [==============================] - 0s 100us/step - loss: 0.3608 - accuracy: 0.8632 - val_loss: 0.3466 - val_accuracy: 0.8247\n",
      "Epoch 47/200\n",
      "614/614 [==============================] - 0s 105us/step - loss: 0.3573 - accuracy: 0.8681 - val_loss: 0.3419 - val_accuracy: 0.8247\n",
      "Epoch 48/200\n",
      "614/614 [==============================] - 0s 105us/step - loss: 0.3511 - accuracy: 0.8713 - val_loss: 0.3371 - val_accuracy: 0.8182\n",
      "Epoch 49/200\n",
      "614/614 [==============================] - 0s 110us/step - loss: 0.3418 - accuracy: 0.8779 - val_loss: 0.3341 - val_accuracy: 0.8247\n",
      "Epoch 50/200\n",
      "614/614 [==============================] - 0s 106us/step - loss: 0.3362 - accuracy: 0.8779 - val_loss: 0.3353 - val_accuracy: 0.8312\n",
      "Epoch 51/200\n",
      "614/614 [==============================] - 0s 126us/step - loss: 0.3360 - accuracy: 0.8730 - val_loss: 0.3295 - val_accuracy: 0.8117\n",
      "Epoch 52/200\n",
      "614/614 [==============================] - 0s 122us/step - loss: 0.3280 - accuracy: 0.8876 - val_loss: 0.3319 - val_accuracy: 0.8377\n",
      "Epoch 53/200\n",
      "614/614 [==============================] - 0s 105us/step - loss: 0.3211 - accuracy: 0.8909 - val_loss: 0.3218 - val_accuracy: 0.8182\n",
      "Epoch 54/200\n",
      "614/614 [==============================] - 0s 112us/step - loss: 0.3188 - accuracy: 0.8827 - val_loss: 0.3284 - val_accuracy: 0.8247\n",
      "Epoch 55/200\n",
      "614/614 [==============================] - 0s 106us/step - loss: 0.3126 - accuracy: 0.8941 - val_loss: 0.3282 - val_accuracy: 0.8442\n",
      "Epoch 56/200\n",
      "614/614 [==============================] - 0s 120us/step - loss: 0.3086 - accuracy: 0.8909 - val_loss: 0.3316 - val_accuracy: 0.8442\n",
      "Epoch 57/200\n",
      "614/614 [==============================] - 0s 129us/step - loss: 0.3016 - accuracy: 0.8974 - val_loss: 0.3629 - val_accuracy: 0.8247\n",
      "Epoch 58/200\n",
      "614/614 [==============================] - 0s 112us/step - loss: 0.3017 - accuracy: 0.8958 - val_loss: 0.3162 - val_accuracy: 0.8442\n",
      "Epoch 59/200\n",
      "614/614 [==============================] - 0s 109us/step - loss: 0.2904 - accuracy: 0.9007 - val_loss: 0.3136 - val_accuracy: 0.8182\n",
      "Epoch 60/200\n",
      "614/614 [==============================] - 0s 107us/step - loss: 0.2847 - accuracy: 0.9055 - val_loss: 0.3159 - val_accuracy: 0.8442\n",
      "Epoch 61/200\n",
      "614/614 [==============================] - 0s 112us/step - loss: 0.2803 - accuracy: 0.9055 - val_loss: 0.3496 - val_accuracy: 0.8377\n",
      "Epoch 62/200\n",
      "614/614 [==============================] - 0s 107us/step - loss: 0.2789 - accuracy: 0.8958 - val_loss: 0.3312 - val_accuracy: 0.8442\n",
      "Epoch 63/200\n",
      "614/614 [==============================] - 0s 116us/step - loss: 0.2695 - accuracy: 0.9088 - val_loss: 0.3370 - val_accuracy: 0.8442\n",
      "Epoch 64/200\n",
      "614/614 [==============================] - 0s 119us/step - loss: 0.2650 - accuracy: 0.8990 - val_loss: 0.3111 - val_accuracy: 0.8377\n",
      "Epoch 65/200\n",
      "614/614 [==============================] - 0s 109us/step - loss: 0.2582 - accuracy: 0.9104 - val_loss: 0.3658 - val_accuracy: 0.8571\n",
      "Epoch 66/200\n",
      "614/614 [==============================] - 0s 127us/step - loss: 0.2553 - accuracy: 0.9169 - val_loss: 0.3102 - val_accuracy: 0.8377\n",
      "Epoch 67/200\n",
      "614/614 [==============================] - 0s 111us/step - loss: 0.2500 - accuracy: 0.9186 - val_loss: 0.3089 - val_accuracy: 0.8312\n",
      "Epoch 68/200\n",
      "614/614 [==============================] - 0s 107us/step - loss: 0.2398 - accuracy: 0.9235 - val_loss: 0.3369 - val_accuracy: 0.8571\n",
      "Epoch 69/200\n",
      "614/614 [==============================] - 0s 122us/step - loss: 0.2349 - accuracy: 0.9169 - val_loss: 0.3135 - val_accuracy: 0.8312\n",
      "Epoch 70/200\n",
      "614/614 [==============================] - 0s 167us/step - loss: 0.2322 - accuracy: 0.9267 - val_loss: 0.3184 - val_accuracy: 0.8312\n",
      "Epoch 71/200\n",
      "614/614 [==============================] - 0s 110us/step - loss: 0.2266 - accuracy: 0.9267 - val_loss: 0.3143 - val_accuracy: 0.8377\n",
      "Epoch 72/200\n",
      "614/614 [==============================] - 0s 110us/step - loss: 0.2219 - accuracy: 0.9300 - val_loss: 0.3270 - val_accuracy: 0.8506\n",
      "Epoch 73/200\n",
      "614/614 [==============================] - 0s 111us/step - loss: 0.2153 - accuracy: 0.9202 - val_loss: 0.3265 - val_accuracy: 0.8377\n",
      "Epoch 74/200\n",
      "614/614 [==============================] - 0s 109us/step - loss: 0.2109 - accuracy: 0.9300 - val_loss: 0.3343 - val_accuracy: 0.8442\n",
      "Epoch 75/200\n",
      "614/614 [==============================] - 0s 107us/step - loss: 0.2021 - accuracy: 0.9349 - val_loss: 0.3202 - val_accuracy: 0.8377\n",
      "Epoch 76/200\n",
      "614/614 [==============================] - 0s 159us/step - loss: 0.2043 - accuracy: 0.9202 - val_loss: 0.3222 - val_accuracy: 0.8312\n",
      "Epoch 77/200\n",
      "614/614 [==============================] - 0s 121us/step - loss: 0.1881 - accuracy: 0.9414 - val_loss: 0.3277 - val_accuracy: 0.8312\n",
      "Epoch 78/200\n",
      "614/614 [==============================] - 0s 108us/step - loss: 0.1858 - accuracy: 0.9381 - val_loss: 0.3294 - val_accuracy: 0.8312\n",
      "Epoch 79/200\n",
      "614/614 [==============================] - 0s 111us/step - loss: 0.1833 - accuracy: 0.9430 - val_loss: 0.3492 - val_accuracy: 0.8312\n",
      "Epoch 80/200\n",
      "614/614 [==============================] - 0s 115us/step - loss: 0.1811 - accuracy: 0.9316 - val_loss: 0.3933 - val_accuracy: 0.8506\n",
      "Epoch 81/200\n",
      "614/614 [==============================] - 0s 106us/step - loss: 0.1740 - accuracy: 0.9463 - val_loss: 0.3852 - val_accuracy: 0.8571\n",
      "Epoch 82/200\n",
      "614/614 [==============================] - 0s 121us/step - loss: 0.1737 - accuracy: 0.9446 - val_loss: 0.3778 - val_accuracy: 0.8377\n",
      "Epoch 83/200\n",
      "614/614 [==============================] - 0s 112us/step - loss: 0.1680 - accuracy: 0.9381 - val_loss: 0.3475 - val_accuracy: 0.8247\n",
      "Epoch 84/200\n",
      "614/614 [==============================] - 0s 106us/step - loss: 0.1563 - accuracy: 0.9414 - val_loss: 0.3523 - val_accuracy: 0.8377\n",
      "Epoch 85/200\n",
      "614/614 [==============================] - 0s 109us/step - loss: 0.1446 - accuracy: 0.9528 - val_loss: 0.3607 - val_accuracy: 0.8247\n",
      "Epoch 86/200\n",
      "614/614 [==============================] - 0s 111us/step - loss: 0.1402 - accuracy: 0.9544 - val_loss: 0.4464 - val_accuracy: 0.8442\n",
      "Epoch 87/200\n",
      "614/614 [==============================] - 0s 117us/step - loss: 0.1456 - accuracy: 0.9463 - val_loss: 0.3836 - val_accuracy: 0.8506\n",
      "Epoch 88/200\n",
      "614/614 [==============================] - 0s 105us/step - loss: 0.1378 - accuracy: 0.9528 - val_loss: 0.3772 - val_accuracy: 0.8442\n",
      "Epoch 89/200\n",
      "614/614 [==============================] - 0s 140us/step - loss: 0.1283 - accuracy: 0.9593 - val_loss: 0.3798 - val_accuracy: 0.8571\n",
      "Epoch 90/200\n",
      "614/614 [==============================] - 0s 139us/step - loss: 0.1308 - accuracy: 0.9577 - val_loss: 0.3693 - val_accuracy: 0.8247\n",
      "Epoch 91/200\n",
      "614/614 [==============================] - 0s 146us/step - loss: 0.1158 - accuracy: 0.9609 - val_loss: 0.3760 - val_accuracy: 0.8377\n",
      "Epoch 92/200\n",
      "614/614 [==============================] - 0s 148us/step - loss: 0.1117 - accuracy: 0.9625 - val_loss: 0.3739 - val_accuracy: 0.8182\n",
      "Epoch 93/200\n",
      "614/614 [==============================] - 0s 151us/step - loss: 0.1050 - accuracy: 0.9723 - val_loss: 0.3818 - val_accuracy: 0.8377\n",
      "Epoch 94/200\n",
      "614/614 [==============================] - 0s 143us/step - loss: 0.1050 - accuracy: 0.9707 - val_loss: 0.4049 - val_accuracy: 0.8442\n",
      "Epoch 95/200\n",
      "614/614 [==============================] - 0s 138us/step - loss: 0.1063 - accuracy: 0.9658 - val_loss: 0.3984 - val_accuracy: 0.8247\n",
      "Epoch 96/200\n",
      "614/614 [==============================] - 0s 131us/step - loss: 0.1079 - accuracy: 0.9593 - val_loss: 0.4040 - val_accuracy: 0.8247\n",
      "Epoch 97/200\n",
      "614/614 [==============================] - 0s 131us/step - loss: 0.0904 - accuracy: 0.9707 - val_loss: 0.4008 - val_accuracy: 0.8312\n",
      "Epoch 98/200\n",
      "614/614 [==============================] - 0s 129us/step - loss: 0.0906 - accuracy: 0.9691 - val_loss: 0.6323 - val_accuracy: 0.8247\n",
      "Epoch 99/200\n",
      "614/614 [==============================] - 0s 138us/step - loss: 0.1494 - accuracy: 0.9511 - val_loss: 0.4002 - val_accuracy: 0.8377\n",
      "Epoch 100/200\n",
      "614/614 [==============================] - 0s 139us/step - loss: 0.0905 - accuracy: 0.9674 - val_loss: 0.4590 - val_accuracy: 0.8247\n",
      "Epoch 101/200\n",
      "614/614 [==============================] - 0s 138us/step - loss: 0.0840 - accuracy: 0.9756 - val_loss: 0.4181 - val_accuracy: 0.8442\n",
      "Epoch 102/200\n",
      "614/614 [==============================] - 0s 124us/step - loss: 0.0928 - accuracy: 0.9674 - val_loss: 0.4196 - val_accuracy: 0.8312\n",
      "Epoch 103/200\n",
      "614/614 [==============================] - 0s 108us/step - loss: 0.0775 - accuracy: 0.9756 - val_loss: 0.4164 - val_accuracy: 0.8442\n",
      "Epoch 104/200\n",
      "614/614 [==============================] - 0s 107us/step - loss: 0.0696 - accuracy: 0.9805 - val_loss: 0.4217 - val_accuracy: 0.8247\n",
      "Epoch 105/200\n",
      "614/614 [==============================] - 0s 105us/step - loss: 0.0707 - accuracy: 0.9805 - val_loss: 0.4391 - val_accuracy: 0.8312\n",
      "Epoch 106/200\n",
      "614/614 [==============================] - 0s 106us/step - loss: 0.1206 - accuracy: 0.9495 - val_loss: 0.4383 - val_accuracy: 0.8247\n",
      "Epoch 107/200\n",
      "614/614 [==============================] - 0s 113us/step - loss: 0.0681 - accuracy: 0.9772 - val_loss: 0.4244 - val_accuracy: 0.8312\n",
      "Epoch 108/200\n",
      "614/614 [==============================] - 0s 105us/step - loss: 0.0619 - accuracy: 0.9837 - val_loss: 0.4662 - val_accuracy: 0.8506\n",
      "Epoch 109/200\n",
      "614/614 [==============================] - 0s 113us/step - loss: 0.0638 - accuracy: 0.9788 - val_loss: 0.4392 - val_accuracy: 0.8377\n",
      "Epoch 110/200\n",
      "614/614 [==============================] - 0s 113us/step - loss: 0.0528 - accuracy: 0.9853 - val_loss: 0.5005 - val_accuracy: 0.8182\n",
      "Epoch 111/200\n",
      "614/614 [==============================] - 0s 120us/step - loss: 0.0618 - accuracy: 0.9772 - val_loss: 0.4653 - val_accuracy: 0.8442\n",
      "Epoch 112/200\n",
      "614/614 [==============================] - 0s 111us/step - loss: 0.0520 - accuracy: 0.9853 - val_loss: 0.4564 - val_accuracy: 0.8247\n",
      "Epoch 113/200\n",
      "614/614 [==============================] - 0s 106us/step - loss: 0.0542 - accuracy: 0.9837 - val_loss: 0.4874 - val_accuracy: 0.8442\n",
      "Epoch 114/200\n",
      "614/614 [==============================] - 0s 106us/step - loss: 0.0555 - accuracy: 0.9821 - val_loss: 0.4469 - val_accuracy: 0.8247\n",
      "Epoch 115/200\n",
      "614/614 [==============================] - 0s 110us/step - loss: 0.0451 - accuracy: 0.9853 - val_loss: 0.4710 - val_accuracy: 0.8377\n",
      "Epoch 116/200\n",
      "614/614 [==============================] - 0s 105us/step - loss: 0.0450 - accuracy: 0.9870 - val_loss: 0.4772 - val_accuracy: 0.8312\n",
      "Epoch 117/200\n",
      "614/614 [==============================] - 0s 106us/step - loss: 0.0358 - accuracy: 0.9919 - val_loss: 0.4936 - val_accuracy: 0.8636\n",
      "Epoch 118/200\n",
      "614/614 [==============================] - 0s 110us/step - loss: 0.0355 - accuracy: 0.9919 - val_loss: 0.5393 - val_accuracy: 0.8377\n",
      "Epoch 119/200\n",
      "614/614 [==============================] - 0s 116us/step - loss: 0.0492 - accuracy: 0.9853 - val_loss: 0.4945 - val_accuracy: 0.8571\n",
      "Epoch 120/200\n",
      "614/614 [==============================] - 0s 106us/step - loss: 0.0308 - accuracy: 0.9919 - val_loss: 0.5152 - val_accuracy: 0.8442\n",
      "Epoch 121/200\n",
      "614/614 [==============================] - 0s 129us/step - loss: 0.0293 - accuracy: 0.9951 - val_loss: 0.5390 - val_accuracy: 0.8377\n",
      "Epoch 122/200\n",
      "614/614 [==============================] - 0s 143us/step - loss: 0.0321 - accuracy: 0.9967 - val_loss: 0.5365 - val_accuracy: 0.8247\n",
      "Epoch 123/200\n",
      "614/614 [==============================] - 0s 140us/step - loss: 0.0287 - accuracy: 0.9951 - val_loss: 0.5034 - val_accuracy: 0.8442\n",
      "Epoch 124/200\n",
      "614/614 [==============================] - 0s 145us/step - loss: 0.0248 - accuracy: 0.9967 - val_loss: 0.5196 - val_accuracy: 0.8377\n",
      "Epoch 125/200\n",
      "614/614 [==============================] - 0s 128us/step - loss: 0.0250 - accuracy: 0.9951 - val_loss: 0.9966 - val_accuracy: 0.7987\n",
      "Epoch 126/200\n",
      "614/614 [==============================] - 0s 134us/step - loss: 0.0867 - accuracy: 0.9837 - val_loss: 0.5151 - val_accuracy: 0.8571\n",
      "Epoch 127/200\n",
      "614/614 [==============================] - 0s 136us/step - loss: 0.0277 - accuracy: 0.9951 - val_loss: 0.5380 - val_accuracy: 0.8571\n",
      "Epoch 128/200\n",
      "614/614 [==============================] - 0s 138us/step - loss: 0.0271 - accuracy: 0.9951 - val_loss: 0.5421 - val_accuracy: 0.8506\n",
      "Epoch 129/200\n",
      "614/614 [==============================] - 0s 133us/step - loss: 0.0239 - accuracy: 0.9951 - val_loss: 0.5303 - val_accuracy: 0.8636\n",
      "Epoch 130/200\n",
      "614/614 [==============================] - 0s 141us/step - loss: 0.0225 - accuracy: 0.9951 - val_loss: 1.7424 - val_accuracy: 0.6234\n",
      "Epoch 131/200\n",
      "614/614 [==============================] - 0s 139us/step - loss: 0.2292 - accuracy: 0.9381 - val_loss: 0.8362 - val_accuracy: 0.8182\n",
      "Epoch 132/200\n",
      "614/614 [==============================] - 0s 140us/step - loss: 0.0624 - accuracy: 0.9837 - val_loss: 0.5145 - val_accuracy: 0.8377\n",
      "Epoch 133/200\n",
      "614/614 [==============================] - 0s 145us/step - loss: 0.0240 - accuracy: 0.9984 - val_loss: 0.5140 - val_accuracy: 0.8506\n",
      "Epoch 134/200\n",
      "614/614 [==============================] - 0s 130us/step - loss: 0.0224 - accuracy: 0.9967 - val_loss: 0.5196 - val_accuracy: 0.8377\n",
      "Epoch 135/200\n",
      "614/614 [==============================] - 0s 109us/step - loss: 0.0185 - accuracy: 0.9984 - val_loss: 0.5264 - val_accuracy: 0.8377\n",
      "Epoch 136/200\n",
      "614/614 [==============================] - 0s 123us/step - loss: 0.0194 - accuracy: 0.9967 - val_loss: 0.5259 - val_accuracy: 0.8506\n",
      "Epoch 137/200\n",
      "614/614 [==============================] - 0s 106us/step - loss: 0.0204 - accuracy: 0.9984 - val_loss: 0.6484 - val_accuracy: 0.8312\n",
      "Epoch 138/200\n",
      "614/614 [==============================] - 0s 105us/step - loss: 0.0344 - accuracy: 0.9919 - val_loss: 0.5739 - val_accuracy: 0.8442\n",
      "Epoch 139/200\n",
      "614/614 [==============================] - 0s 118us/step - loss: 0.0159 - accuracy: 0.9967 - val_loss: 0.5668 - val_accuracy: 0.8377\n",
      "Epoch 140/200\n",
      "614/614 [==============================] - 0s 110us/step - loss: 0.0151 - accuracy: 0.9984 - val_loss: 0.5569 - val_accuracy: 0.8701\n",
      "Epoch 141/200\n",
      "614/614 [==============================] - 0s 105us/step - loss: 0.0171 - accuracy: 0.9967 - val_loss: 0.5610 - val_accuracy: 0.8312\n",
      "Epoch 142/200\n",
      "614/614 [==============================] - 0s 106us/step - loss: 0.0135 - accuracy: 1.0000 - val_loss: 0.5731 - val_accuracy: 0.8377\n",
      "Epoch 143/200\n",
      "614/614 [==============================] - 0s 111us/step - loss: 0.0137 - accuracy: 0.9984 - val_loss: 0.5623 - val_accuracy: 0.8571\n",
      "Epoch 144/200\n",
      "614/614 [==============================] - 0s 106us/step - loss: 0.0113 - accuracy: 1.0000 - val_loss: 0.5652 - val_accuracy: 0.8571\n",
      "Epoch 145/200\n",
      "614/614 [==============================] - 0s 108us/step - loss: 0.0109 - accuracy: 1.0000 - val_loss: 0.5780 - val_accuracy: 0.8571\n",
      "Epoch 146/200\n",
      "614/614 [==============================] - 0s 112us/step - loss: 0.0117 - accuracy: 0.9984 - val_loss: 0.6175 - val_accuracy: 0.8506\n",
      "Epoch 147/200\n",
      "614/614 [==============================] - 0s 110us/step - loss: 0.0157 - accuracy: 0.9967 - val_loss: 0.5875 - val_accuracy: 0.8442\n",
      "Epoch 148/200\n",
      "614/614 [==============================] - 0s 114us/step - loss: 0.0105 - accuracy: 1.0000 - val_loss: 0.5898 - val_accuracy: 0.8571\n",
      "Epoch 149/200\n",
      "614/614 [==============================] - 0s 112us/step - loss: 0.0104 - accuracy: 0.9984 - val_loss: 0.5912 - val_accuracy: 0.8506\n",
      "Epoch 150/200\n",
      "614/614 [==============================] - 0s 107us/step - loss: 0.0093 - accuracy: 1.0000 - val_loss: 0.5913 - val_accuracy: 0.8571\n",
      "Epoch 151/200\n",
      "614/614 [==============================] - 0s 111us/step - loss: 0.0093 - accuracy: 1.0000 - val_loss: 0.6034 - val_accuracy: 0.8571\n",
      "Epoch 152/200\n",
      "614/614 [==============================] - 0s 114us/step - loss: 0.0087 - accuracy: 1.0000 - val_loss: 0.6100 - val_accuracy: 0.8377\n",
      "Epoch 153/200\n",
      "614/614 [==============================] - 0s 104us/step - loss: 0.0079 - accuracy: 1.0000 - val_loss: 0.6087 - val_accuracy: 0.8506\n",
      "Epoch 154/200\n",
      "614/614 [==============================] - 0s 98us/step - loss: 0.0077 - accuracy: 1.0000 - val_loss: 0.6123 - val_accuracy: 0.8377\n",
      "Epoch 155/200\n",
      "614/614 [==============================] - 0s 101us/step - loss: 0.0080 - accuracy: 1.0000 - val_loss: 0.6148 - val_accuracy: 0.8506\n",
      "Epoch 156/200\n",
      "614/614 [==============================] - 0s 97us/step - loss: 0.0075 - accuracy: 1.0000 - val_loss: 0.6148 - val_accuracy: 0.8571\n",
      "Epoch 157/200\n",
      "614/614 [==============================] - 0s 125us/step - loss: 0.0080 - accuracy: 1.0000 - val_loss: 0.6240 - val_accuracy: 0.8636\n",
      "Epoch 158/200\n",
      "614/614 [==============================] - 0s 133us/step - loss: 0.0078 - accuracy: 1.0000 - val_loss: 0.6239 - val_accuracy: 0.8571\n",
      "Epoch 159/200\n",
      "614/614 [==============================] - 0s 100us/step - loss: 0.0066 - accuracy: 1.0000 - val_loss: 0.6417 - val_accuracy: 0.8377\n",
      "Epoch 160/200\n",
      "614/614 [==============================] - 0s 123us/step - loss: 0.0068 - accuracy: 1.0000 - val_loss: 0.6319 - val_accuracy: 0.8506\n",
      "Epoch 161/200\n",
      "614/614 [==============================] - 0s 135us/step - loss: 0.0064 - accuracy: 1.0000 - val_loss: 0.6296 - val_accuracy: 0.8571\n",
      "Epoch 162/200\n",
      "614/614 [==============================] - 0s 108us/step - loss: 0.0063 - accuracy: 1.0000 - val_loss: 0.6366 - val_accuracy: 0.8506\n",
      "Epoch 163/200\n",
      "614/614 [==============================] - 0s 110us/step - loss: 0.0058 - accuracy: 1.0000 - val_loss: 0.6408 - val_accuracy: 0.8506\n",
      "Epoch 164/200\n",
      "614/614 [==============================] - 0s 109us/step - loss: 0.0059 - accuracy: 1.0000 - val_loss: 0.6452 - val_accuracy: 0.8506\n",
      "Epoch 165/200\n",
      "614/614 [==============================] - 0s 116us/step - loss: 0.0056 - accuracy: 1.0000 - val_loss: 0.6450 - val_accuracy: 0.8571\n",
      "Epoch 166/200\n",
      "614/614 [==============================] - 0s 100us/step - loss: 0.0055 - accuracy: 1.0000 - val_loss: 0.6503 - val_accuracy: 0.8571\n",
      "Epoch 167/200\n",
      "614/614 [==============================] - 0s 99us/step - loss: 0.0053 - accuracy: 1.0000 - val_loss: 0.6537 - val_accuracy: 0.8506\n",
      "Epoch 168/200\n",
      "614/614 [==============================] - 0s 97us/step - loss: 0.0053 - accuracy: 1.0000 - val_loss: 0.6560 - val_accuracy: 0.8636\n",
      "Epoch 169/200\n",
      "614/614 [==============================] - 0s 99us/step - loss: 0.0075 - accuracy: 1.0000 - val_loss: 0.6558 - val_accuracy: 0.8571\n",
      "Epoch 170/200\n",
      "614/614 [==============================] - 0s 96us/step - loss: 0.0050 - accuracy: 1.0000 - val_loss: 0.6559 - val_accuracy: 0.8506\n",
      "Epoch 171/200\n",
      "614/614 [==============================] - 0s 98us/step - loss: 0.0046 - accuracy: 1.0000 - val_loss: 0.6661 - val_accuracy: 0.8442\n",
      "Epoch 172/200\n",
      "614/614 [==============================] - 0s 98us/step - loss: 0.0046 - accuracy: 1.0000 - val_loss: 0.6621 - val_accuracy: 0.8571\n",
      "Epoch 173/200\n",
      "614/614 [==============================] - 0s 99us/step - loss: 0.0045 - accuracy: 1.0000 - val_loss: 0.6689 - val_accuracy: 0.8506\n",
      "Epoch 174/200\n",
      "614/614 [==============================] - 0s 98us/step - loss: 0.0043 - accuracy: 1.0000 - val_loss: 0.6666 - val_accuracy: 0.8571\n",
      "Epoch 175/200\n",
      "614/614 [==============================] - 0s 97us/step - loss: 0.0045 - accuracy: 1.0000 - val_loss: 0.6761 - val_accuracy: 0.8377\n",
      "Epoch 176/200\n",
      "614/614 [==============================] - 0s 97us/step - loss: 0.0045 - accuracy: 1.0000 - val_loss: 0.6786 - val_accuracy: 0.8377\n",
      "Epoch 177/200\n",
      "614/614 [==============================] - 0s 105us/step - loss: 0.0041 - accuracy: 1.0000 - val_loss: 0.6867 - val_accuracy: 0.8506\n",
      "Epoch 178/200\n",
      "614/614 [==============================] - 0s 101us/step - loss: 0.0040 - accuracy: 1.0000 - val_loss: 0.6783 - val_accuracy: 0.8506\n",
      "Epoch 179/200\n",
      "614/614 [==============================] - 0s 97us/step - loss: 0.0040 - accuracy: 1.0000 - val_loss: 0.6829 - val_accuracy: 0.8442\n",
      "Epoch 180/200\n",
      "614/614 [==============================] - 0s 95us/step - loss: 0.0039 - accuracy: 1.0000 - val_loss: 0.6907 - val_accuracy: 0.8442\n",
      "Epoch 181/200\n",
      "614/614 [==============================] - 0s 101us/step - loss: 0.0038 - accuracy: 1.0000 - val_loss: 0.7009 - val_accuracy: 0.8636\n",
      "Epoch 182/200\n",
      "614/614 [==============================] - 0s 102us/step - loss: 0.0044 - accuracy: 1.0000 - val_loss: 0.6995 - val_accuracy: 0.8442\n",
      "Epoch 183/200\n",
      "614/614 [==============================] - 0s 121us/step - loss: 0.0038 - accuracy: 1.0000 - val_loss: 0.6954 - val_accuracy: 0.8506\n",
      "Epoch 184/200\n",
      "614/614 [==============================] - 0s 121us/step - loss: 0.0036 - accuracy: 1.0000 - val_loss: 0.6927 - val_accuracy: 0.8506\n",
      "Epoch 185/200\n",
      "614/614 [==============================] - 0s 101us/step - loss: 0.0035 - accuracy: 1.0000 - val_loss: 0.6919 - val_accuracy: 0.8571\n",
      "Epoch 186/200\n",
      "614/614 [==============================] - 0s 108us/step - loss: 0.0035 - accuracy: 1.0000 - val_loss: 0.6948 - val_accuracy: 0.8506\n",
      "Epoch 187/200\n",
      "614/614 [==============================] - 0s 116us/step - loss: 0.0033 - accuracy: 1.0000 - val_loss: 0.6964 - val_accuracy: 0.8506\n",
      "Epoch 188/200\n",
      "614/614 [==============================] - 0s 108us/step - loss: 0.0032 - accuracy: 1.0000 - val_loss: 0.7802 - val_accuracy: 0.8312\n",
      "Epoch 189/200\n",
      "614/614 [==============================] - 0s 126us/step - loss: 0.0048 - accuracy: 1.0000 - val_loss: 0.7097 - val_accuracy: 0.8312\n",
      "Epoch 190/200\n",
      "614/614 [==============================] - 0s 114us/step - loss: 0.0033 - accuracy: 1.0000 - val_loss: 0.7168 - val_accuracy: 0.8377\n",
      "Epoch 191/200\n",
      "614/614 [==============================] - 0s 111us/step - loss: 0.0031 - accuracy: 1.0000 - val_loss: 0.7117 - val_accuracy: 0.8506\n",
      "Epoch 192/200\n",
      "614/614 [==============================] - 0s 109us/step - loss: 0.0030 - accuracy: 1.0000 - val_loss: 0.7091 - val_accuracy: 0.8571\n",
      "Epoch 193/200\n",
      "614/614 [==============================] - 0s 111us/step - loss: 0.0030 - accuracy: 1.0000 - val_loss: 0.7195 - val_accuracy: 0.8377\n",
      "Epoch 194/200\n",
      "614/614 [==============================] - 0s 113us/step - loss: 0.0028 - accuracy: 1.0000 - val_loss: 0.7210 - val_accuracy: 0.8377\n",
      "Epoch 195/200\n",
      "614/614 [==============================] - 0s 107us/step - loss: 0.0028 - accuracy: 1.0000 - val_loss: 0.7426 - val_accuracy: 0.8442\n",
      "Epoch 196/200\n",
      "614/614 [==============================] - 0s 101us/step - loss: 0.0037 - accuracy: 1.0000 - val_loss: 0.7212 - val_accuracy: 0.8571\n",
      "Epoch 197/200\n",
      "614/614 [==============================] - 0s 99us/step - loss: 0.0027 - accuracy: 1.0000 - val_loss: 0.7251 - val_accuracy: 0.8442\n",
      "Epoch 198/200\n",
      "614/614 [==============================] - 0s 109us/step - loss: 0.0027 - accuracy: 1.0000 - val_loss: 0.7268 - val_accuracy: 0.8442\n",
      "Epoch 199/200\n",
      "614/614 [==============================] - 0s 111us/step - loss: 0.0026 - accuracy: 1.0000 - val_loss: 0.7260 - val_accuracy: 0.8506\n",
      "Epoch 200/200\n",
      "614/614 [==============================] - 0s 109us/step - loss: 0.0024 - accuracy: 1.0000 - val_loss: 0.7385 - val_accuracy: 0.8442\n",
      "Loss : 0.7384827446627926\n",
      "Accuracy :84.41558480262756\n"
     ]
    }
   ],
   "source": [
    "print(model.summary())\n",
    "model.compile(loss='sparse_categorical_crossentropy',\n",
    "              optimizer=\"sgd\",metrics=['accuracy'])\n",
    "model.fit(x_train, y_train, epochs=200, verbose=1, validation_data=(x_test, y_test))\n",
    "loss, accuracy = model.evaluate(x_test,y_test, verbose=0)\n",
    "print(\"Loss : \"+str(loss))\n",
    "print(\"Accuracy :\"+str(accuracy*100.0))"
   ]
  },
  {
   "cell_type": "code",
   "execution_count": null,
   "metadata": {},
   "outputs": [],
   "source": []
  },
  {
   "cell_type": "code",
   "execution_count": null,
   "metadata": {},
   "outputs": [],
   "source": []
  },
  {
   "cell_type": "code",
   "execution_count": 41,
   "metadata": {},
   "outputs": [
    {
     "data": {
      "text/plain": [
       "SVC(C=1.0, cache_size=200, class_weight=None, coef0=0.0,\n",
       "    decision_function_shape='ovr', degree=3, gamma='auto_deprecated',\n",
       "    kernel='linear', max_iter=-1, probability=False, random_state=None,\n",
       "    shrinking=True, tol=0.001, verbose=False)"
      ]
     },
     "execution_count": 41,
     "metadata": {},
     "output_type": "execute_result"
    }
   ],
   "source": [
    "from sklearn.svm import SVC\n",
    "model=SVC(kernel='linear')\n",
    "model.fit(x_train,y_train)"
   ]
  },
  {
   "cell_type": "code",
   "execution_count": 42,
   "metadata": {},
   "outputs": [],
   "source": [
    "y_pred=model.predict(x_test)"
   ]
  },
  {
   "cell_type": "code",
   "execution_count": 43,
   "metadata": {},
   "outputs": [
    {
     "data": {
      "text/plain": [
       "0.9090909090909091"
      ]
     },
     "execution_count": 43,
     "metadata": {},
     "output_type": "execute_result"
    }
   ],
   "source": [
    "accuracy_score(y_test,y_pred)"
   ]
  },
  {
   "cell_type": "code",
   "execution_count": 44,
   "metadata": {},
   "outputs": [
    {
     "data": {
      "text/plain": [
       "array([[99,  8],\n",
       "       [ 6, 41]])"
      ]
     },
     "execution_count": 44,
     "metadata": {},
     "output_type": "execute_result"
    }
   ],
   "source": [
    "confusion_matrix(y_test,y_pred)"
   ]
  },
  {
   "cell_type": "code",
   "execution_count": null,
   "metadata": {},
   "outputs": [],
   "source": []
  },
  {
   "cell_type": "code",
   "execution_count": null,
   "metadata": {},
   "outputs": [],
   "source": []
  },
  {
   "cell_type": "code",
   "execution_count": null,
   "metadata": {},
   "outputs": [],
   "source": []
  },
  {
   "cell_type": "code",
   "execution_count": null,
   "metadata": {},
   "outputs": [],
   "source": []
  },
  {
   "cell_type": "code",
   "execution_count": 45,
   "metadata": {},
   "outputs": [],
   "source": [
    "target_col = [\"Outcome\"]\n",
    "cat_cols   = df.nunique()[df.nunique() < 12].keys().tolist()\n",
    "cat_cols   = [x for x in cat_cols ]"
   ]
  },
  {
   "cell_type": "code",
   "execution_count": 46,
   "metadata": {},
   "outputs": [],
   "source": [
    "num_cols   = [x for x in df.columns if x not in cat_cols + target_col]"
   ]
  },
  {
   "cell_type": "code",
   "execution_count": 47,
   "metadata": {},
   "outputs": [],
   "source": [
    "std = StandardScaler()\n",
    "scaled = std.fit_transform(df[num_cols])\n",
    "scaled = pd.DataFrame(scaled,columns=num_cols)"
   ]
  },
  {
   "cell_type": "code",
   "execution_count": 48,
   "metadata": {},
   "outputs": [
    {
     "data": {
      "image/png": "[encoded data removed]",
      "text/plain": [
       "<Figure size 792x1080 with 1 Axes>"
      ]
     },
     "metadata": {},
     "output_type": "display_data"
    }
   ],
   "source": [
    "plt.style.use('ggplot') # Using ggplot2 style visuals \n",
    "\n",
    "f, ax = plt.subplots(figsize=(11, 15))\n",
    "\n",
    "ax.set_facecolor('#fafafa')\n",
    "ax.set(xlim=(-.05, 200))\n",
    "plt.ylabel('Variables')\n",
    "plt.title(\"Overview Data Set\")\n",
    "ax = sns.boxplot(data = df, \n",
    "  orient = 'h', \n",
    "  palette = 'Set2')"
   ]
  },
  {
   "cell_type": "code",
   "execution_count": 49,
   "metadata": {},
   "outputs": [
    {
     "ename": "SyntaxError",
     "evalue": "invalid syntax (<ipython-input-49-11446791f249>, line 1)",
     "output_type": "error",
     "traceback": [
      "\u001b[0;36m  File \u001b[0;32m\"<ipython-input-49-11446791f249>\"\u001b[0;36m, line \u001b[0;32m1\u001b[0m\n\u001b[0;31m    df['SkinThickness']=\u001b[0m\n\u001b[0m                        ^\u001b[0m\n\u001b[0;31mSyntaxError\u001b[0m\u001b[0;31m:\u001b[0m invalid syntax\n"
     ]
    }
   ],
   "source": [
    "df['SkinThickness']="
   ]
  },
  {
   "cell_type": "code",
   "execution_count": 50,
   "metadata": {},
   "outputs": [],
   "source": [
    "df.loc[(df['Outcome'] == 0 ) & (df['SkinThickness']>35), 'SkinThickness'] = 27"
   ]
  },
  {
   "cell_type": "code",
   "execution_count": 51,
   "metadata": {},
   "outputs": [],
   "source": [
    "df.loc[(df['Outcome'] == 1 ) & (df['SkinThickness']>35), 'SkinThickness'] = 32"
   ]
  },
  {
   "cell_type": "code",
   "execution_count": 52,
   "metadata": {},
   "outputs": [
    {
     "data": {
      "image/png": "[encoded data removed]",
      "text/plain": [
       "<Figure size 792x1080 with 1 Axes>"
      ]
     },
     "metadata": {},
     "output_type": "display_data"
    }
   ],
   "source": [
    "plt.style.use('ggplot') # Using ggplot2 style visuals \n",
    "\n",
    "f, ax = plt.subplots(figsize=(11, 15))\n",
    "\n",
    "ax.set_facecolor('#fafafa')\n",
    "ax.set(xlim=(-.05, 200))\n",
    "plt.ylabel('Variables')\n",
    "plt.title(\"Overview Data Set\")\n",
    "ax = sns.boxplot(data = df, \n",
    "  orient = 'h', \n",
    "  palette = 'Set2')"
   ]
  },
  {
   "cell_type": "code",
   "execution_count": 53,
   "metadata": {},
   "outputs": [
    {
     "data": {
      "text/html": [
       "<div>\n",
       "<style scoped>\n",
       "    .dataframe tbody tr th:only-of-type {\n",
       "        vertical-align: middle;\n",
       "    }\n",
       "\n",
       "    .dataframe tbody tr th {\n",
       "        vertical-align: top;\n",
       "    }\n",
       "\n",
       "    .dataframe thead th {\n",
       "        text-align: right;\n",
       "    }\n",
       "</style>\n",
       "<table border=\"1\" class=\"dataframe\">\n",
       "  <thead>\n",
       "    <tr style=\"text-align: right;\">\n",
       "      <th></th>\n",
       "      <th>Outcome</th>\n",
       "      <th>Pregnancies</th>\n",
       "    </tr>\n",
       "  </thead>\n",
       "  <tbody>\n",
       "    <tr>\n",
       "      <th>0</th>\n",
       "      <td>0</td>\n",
       "      <td>2</td>\n",
       "    </tr>\n",
       "    <tr>\n",
       "      <th>1</th>\n",
       "      <td>1</td>\n",
       "      <td>4</td>\n",
       "    </tr>\n",
       "  </tbody>\n",
       "</table>\n",
       "</div>"
      ],
      "text/plain": [
       "   Outcome  Pregnancies\n",
       "0        0            2\n",
       "1        1            4"
      ]
     },
     "execution_count": 53,
     "metadata": {},
     "output_type": "execute_result"
    }
   ],
   "source": [
    "median_target('Pregnancies')"
   ]
  },
  {
   "cell_type": "code",
   "execution_count": 54,
   "metadata": {},
   "outputs": [],
   "source": [
    "df.loc[(df['Outcome'] == 0 ) & (df['Pregnancies']>13), 'Pregnancies'] = 2"
   ]
  },
  {
   "cell_type": "code",
   "execution_count": 55,
   "metadata": {},
   "outputs": [],
   "source": [
    "df.loc[(df['Outcome'] == 1 ) & (df['Pregnancies']>13), 'Pregnancies'] = 4"
   ]
  },
  {
   "cell_type": "code",
   "execution_count": 56,
   "metadata": {},
   "outputs": [
    {
     "data": {
      "text/html": [
       "<div>\n",
       "<style scoped>\n",
       "    .dataframe tbody tr th:only-of-type {\n",
       "        vertical-align: middle;\n",
       "    }\n",
       "\n",
       "    .dataframe tbody tr th {\n",
       "        vertical-align: top;\n",
       "    }\n",
       "\n",
       "    .dataframe thead th {\n",
       "        text-align: right;\n",
       "    }\n",
       "</style>\n",
       "<table border=\"1\" class=\"dataframe\">\n",
       "  <thead>\n",
       "    <tr style=\"text-align: right;\">\n",
       "      <th></th>\n",
       "      <th>Outcome</th>\n",
       "      <th>BloodPressure</th>\n",
       "    </tr>\n",
       "  </thead>\n",
       "  <tbody>\n",
       "    <tr>\n",
       "      <th>0</th>\n",
       "      <td>0</td>\n",
       "      <td>70.0</td>\n",
       "    </tr>\n",
       "    <tr>\n",
       "      <th>1</th>\n",
       "      <td>1</td>\n",
       "      <td>74.5</td>\n",
       "    </tr>\n",
       "  </tbody>\n",
       "</table>\n",
       "</div>"
      ],
      "text/plain": [
       "   Outcome  BloodPressure\n",
       "0        0           70.0\n",
       "1        1           74.5"
      ]
     },
     "execution_count": 56,
     "metadata": {},
     "output_type": "execute_result"
    }
   ],
   "source": [
    "median_target('BloodPressure')"
   ]
  },
  {
   "cell_type": "code",
   "execution_count": 57,
   "metadata": {},
   "outputs": [
    {
     "data": {
      "text/plain": [
       "<matplotlib.axes._subplots.AxesSubplot at 0x7fa6ca911240>"
      ]
     },
     "execution_count": 57,
     "metadata": {},
     "output_type": "execute_result"
    },
    {
     "data": {
      "image/png": "[encoded data removed]",
      "text/plain": [
       "<Figure size 432x288 with 1 Axes>"
      ]
     },
     "metadata": {},
     "output_type": "display_data"
    }
   ],
   "source": [
    "sns.boxplot(df['BloodPressure'])"
   ]
  },
  {
   "cell_type": "code",
   "execution_count": 58,
   "metadata": {},
   "outputs": [],
   "source": [
    "df.loc[(df['Outcome'] == 1 ) & (df['BloodPressure']>105), 'BloodPressure'] = 74.5"
   ]
  },
  {
   "cell_type": "code",
   "execution_count": 59,
   "metadata": {},
   "outputs": [],
   "source": [
    "df.loc[(df['Outcome'] == 0 ) & (df['BloodPressure']>105), 'BloodPressure'] = 70"
   ]
  },
  {
   "cell_type": "code",
   "execution_count": 60,
   "metadata": {},
   "outputs": [
    {
     "data": {
      "text/plain": [
       "<matplotlib.axes._subplots.AxesSubplot at 0x7fa6ca6d77f0>"
      ]
     },
     "execution_count": 60,
     "metadata": {},
     "output_type": "execute_result"
    },
    {
     "data": {
      "image/png": "[encoded data removed]",
      "text/plain": [
       "<Figure size 432x288 with 1 Axes>"
      ]
     },
     "metadata": {},
     "output_type": "display_data"
    }
   ],
   "source": [
    "sns.boxplot(df['Age'])"
   ]
  },
  {
   "cell_type": "code",
   "execution_count": 61,
   "metadata": {},
   "outputs": [
    {
     "data": {
      "text/html": [
       "<div>\n",
       "<style scoped>\n",
       "    .dataframe tbody tr th:only-of-type {\n",
       "        vertical-align: middle;\n",
       "    }\n",
       "\n",
       "    .dataframe tbody tr th {\n",
       "        vertical-align: top;\n",
       "    }\n",
       "\n",
       "    .dataframe thead th {\n",
       "        text-align: right;\n",
       "    }\n",
       "</style>\n",
       "<table border=\"1\" class=\"dataframe\">\n",
       "  <thead>\n",
       "    <tr style=\"text-align: right;\">\n",
       "      <th></th>\n",
       "      <th>Outcome</th>\n",
       "      <th>Age</th>\n",
       "    </tr>\n",
       "  </thead>\n",
       "  <tbody>\n",
       "    <tr>\n",
       "      <th>0</th>\n",
       "      <td>0</td>\n",
       "      <td>27</td>\n",
       "    </tr>\n",
       "    <tr>\n",
       "      <th>1</th>\n",
       "      <td>1</td>\n",
       "      <td>36</td>\n",
       "    </tr>\n",
       "  </tbody>\n",
       "</table>\n",
       "</div>"
      ],
      "text/plain": [
       "   Outcome  Age\n",
       "0        0   27\n",
       "1        1   36"
      ]
     },
     "execution_count": 61,
     "metadata": {},
     "output_type": "execute_result"
    }
   ],
   "source": [
    "median_target('Age')"
   ]
  },
  {
   "cell_type": "code",
   "execution_count": 62,
   "metadata": {},
   "outputs": [],
   "source": [
    "df.loc[(df['Outcome'] == 1 ) & (df['Age']>65), 'Age'] = 36"
   ]
  },
  {
   "cell_type": "code",
   "execution_count": 63,
   "metadata": {},
   "outputs": [],
   "source": [
    "df.loc[(df['Outcome'] == 0 ) & (df['Age']>65), 'Age'] = 27"
   ]
  },
  {
   "cell_type": "code",
   "execution_count": 64,
   "metadata": {},
   "outputs": [
    {
     "data": {
      "image/png": "[encoded data removed]",
      "text/plain": [
       "<Figure size 792x1080 with 1 Axes>"
      ]
     },
     "metadata": {},
     "output_type": "display_data"
    }
   ],
   "source": [
    "plt.style.use('ggplot') # Using ggplot2 style visuals \n",
    "\n",
    "f, ax = plt.subplots(figsize=(11, 15))\n",
    "\n",
    "ax.set_facecolor('#fafafa')\n",
    "ax.set(xlim=(-.05, 200))\n",
    "plt.ylabel('Variables')\n",
    "plt.title(\"Overview Data Set\")\n",
    "ax = sns.boxplot(data = df, \n",
    "  orient = 'h', \n",
    "  palette = 'Set2')"
   ]
  },
  {
   "cell_type": "code",
   "execution_count": 65,
   "metadata": {},
   "outputs": [
    {
     "data": {
      "text/html": [
       "<div>\n",
       "<style scoped>\n",
       "    .dataframe tbody tr th:only-of-type {\n",
       "        vertical-align: middle;\n",
       "    }\n",
       "\n",
       "    .dataframe tbody tr th {\n",
       "        vertical-align: top;\n",
       "    }\n",
       "\n",
       "    .dataframe thead th {\n",
       "        text-align: right;\n",
       "    }\n",
       "</style>\n",
       "<table border=\"1\" class=\"dataframe\">\n",
       "  <thead>\n",
       "    <tr style=\"text-align: right;\">\n",
       "      <th></th>\n",
       "      <th>Outcome</th>\n",
       "      <th>BMI</th>\n",
       "    </tr>\n",
       "  </thead>\n",
       "  <tbody>\n",
       "    <tr>\n",
       "      <th>0</th>\n",
       "      <td>0</td>\n",
       "      <td>30.1</td>\n",
       "    </tr>\n",
       "    <tr>\n",
       "      <th>1</th>\n",
       "      <td>1</td>\n",
       "      <td>34.3</td>\n",
       "    </tr>\n",
       "  </tbody>\n",
       "</table>\n",
       "</div>"
      ],
      "text/plain": [
       "   Outcome   BMI\n",
       "0        0  30.1\n",
       "1        1  34.3"
      ]
     },
     "execution_count": 65,
     "metadata": {},
     "output_type": "execute_result"
    }
   ],
   "source": [
    "median_target('BMI')"
   ]
  },
  {
   "cell_type": "code",
   "execution_count": 66,
   "metadata": {},
   "outputs": [
    {
     "data": {
      "text/plain": [
       "<matplotlib.axes._subplots.AxesSubplot at 0x7fa6ca4a7828>"
      ]
     },
     "execution_count": 66,
     "metadata": {},
     "output_type": "execute_result"
    },
    {
     "data": {
      "image/png": "[encoded data removed]",
      "text/plain": [
       "<Figure size 432x288 with 1 Axes>"
      ]
     },
     "metadata": {},
     "output_type": "display_data"
    }
   ],
   "source": [
    "sns.boxplot(df['BMI'])"
   ]
  },
  {
   "cell_type": "code",
   "execution_count": 67,
   "metadata": {},
   "outputs": [],
   "source": [
    "df.loc[(df['Outcome'] == 1 ) & (df['BMI']>50), 'BMI'] = 34.5"
   ]
  },
  {
   "cell_type": "code",
   "execution_count": 68,
   "metadata": {},
   "outputs": [],
   "source": [
    "df.loc[(df['Outcome'] == 0 ) & (df['BMI']>50), 'BMI'] = 30.1"
   ]
  },
  {
   "cell_type": "code",
   "execution_count": 69,
   "metadata": {},
   "outputs": [
    {
     "data": {
      "text/plain": [
       "<matplotlib.axes._subplots.AxesSubplot at 0x7fa6ca5f8048>"
      ]
     },
     "execution_count": 69,
     "metadata": {},
     "output_type": "execute_result"
    },
    {
     "data": {
      "image/png": "[encoded data removed]",
      "text/plain": [
       "<Figure size 432x288 with 1 Axes>"
      ]
     },
     "metadata": {},
     "output_type": "display_data"
    }
   ],
   "source": [
    "sns.boxplot(df['BMI'])"
   ]
  },
  {
   "cell_type": "code",
   "execution_count": 70,
   "metadata": {},
   "outputs": [
    {
     "data": {
      "image/png": "[encoded data removed]",
      "text/plain": [
       "<Figure size 792x1080 with 1 Axes>"
      ]
     },
     "metadata": {},
     "output_type": "display_data"
    }
   ],
   "source": [
    "plt.style.use('ggplot') # Using ggplot2 style visuals \n",
    "\n",
    "f, ax = plt.subplots(figsize=(11, 15))\n",
    "\n",
    "ax.set_facecolor('#fafafa')\n",
    "ax.set(xlim=(-.05, 200))\n",
    "plt.ylabel('Variables')\n",
    "plt.title(\"Overview Data Set\")\n",
    "ax = sns.boxplot(data = df, \n",
    "  orient = 'h', \n",
    "  palette = 'Set2')"
   ]
  },
  {
   "cell_type": "code",
   "execution_count": null,
   "metadata": {},
   "outputs": [],
   "source": []
  },
  {
   "cell_type": "code",
   "execution_count": null,
   "metadata": {},
   "outputs": [],
   "source": []
  },
  {
   "cell_type": "code",
   "execution_count": null,
   "metadata": {},
   "outputs": [],
   "source": []
  },
  {
   "cell_type": "code",
   "execution_count": 71,
   "metadata": {},
   "outputs": [
    {
     "data": {
      "text/html": [
       "<div>\n",
       "<style scoped>\n",
       "    .dataframe tbody tr th:only-of-type {\n",
       "        vertical-align: middle;\n",
       "    }\n",
       "\n",
       "    .dataframe tbody tr th {\n",
       "        vertical-align: top;\n",
       "    }\n",
       "\n",
       "    .dataframe thead th {\n",
       "        text-align: right;\n",
       "    }\n",
       "</style>\n",
       "<table border=\"1\" class=\"dataframe\">\n",
       "  <thead>\n",
       "    <tr style=\"text-align: right;\">\n",
       "      <th></th>\n",
       "      <th>Pregnancies</th>\n",
       "      <th>Glucose</th>\n",
       "      <th>BloodPressure</th>\n",
       "      <th>SkinThickness</th>\n",
       "      <th>Insulin</th>\n",
       "      <th>BMI</th>\n",
       "      <th>DiabetesPedigreeFunction</th>\n",
       "      <th>Age</th>\n",
       "      <th>N0</th>\n",
       "      <th>N8</th>\n",
       "      <th>N13</th>\n",
       "      <th>N12</th>\n",
       "      <th>N14</th>\n",
       "    </tr>\n",
       "  </thead>\n",
       "  <tbody>\n",
       "    <tr>\n",
       "      <th>0</th>\n",
       "      <td>0.639947</td>\n",
       "      <td>0.864625</td>\n",
       "      <td>-0.032180</td>\n",
       "      <td>0.665181</td>\n",
       "      <td>0.311604</td>\n",
       "      <td>0.169483</td>\n",
       "      <td>0.468492</td>\n",
       "      <td>1.425995</td>\n",
       "      <td>0.436284</td>\n",
       "      <td>0.144246</td>\n",
       "      <td>-0.561641</td>\n",
       "      <td>1.202461</td>\n",
       "      <td>-0.023905</td>\n",
       "    </tr>\n",
       "    <tr>\n",
       "      <th>1</th>\n",
       "      <td>-0.844885</td>\n",
       "      <td>-1.204727</td>\n",
       "      <td>-0.528124</td>\n",
       "      <td>-0.010112</td>\n",
       "      <td>-0.440843</td>\n",
       "      <td>-0.848549</td>\n",
       "      <td>-0.365061</td>\n",
       "      <td>-0.190672</td>\n",
       "      <td>-0.455696</td>\n",
       "      <td>-0.929227</td>\n",
       "      <td>-0.538026</td>\n",
       "      <td>-0.382029</td>\n",
       "      <td>0.014204</td>\n",
       "    </tr>\n",
       "    <tr>\n",
       "      <th>2</th>\n",
       "      <td>1.233880</td>\n",
       "      <td>2.014265</td>\n",
       "      <td>-0.693438</td>\n",
       "      <td>0.327535</td>\n",
       "      <td>0.311604</td>\n",
       "      <td>-1.328478</td>\n",
       "      <td>0.604397</td>\n",
       "      <td>-0.105584</td>\n",
       "      <td>-0.512575</td>\n",
       "      <td>1.734723</td>\n",
       "      <td>-0.421674</td>\n",
       "      <td>0.440289</td>\n",
       "      <td>-0.566853</td>\n",
       "    </tr>\n",
       "    <tr>\n",
       "      <th>3</th>\n",
       "      <td>-0.844885</td>\n",
       "      <td>-1.073339</td>\n",
       "      <td>-0.528124</td>\n",
       "      <td>-0.685405</td>\n",
       "      <td>-0.536303</td>\n",
       "      <td>-0.630399</td>\n",
       "      <td>-0.920763</td>\n",
       "      <td>-1.041549</td>\n",
       "      <td>-0.731491</td>\n",
       "      <td>-0.741294</td>\n",
       "      <td>0.583847</td>\n",
       "      <td>-0.952845</td>\n",
       "      <td>-0.389882</td>\n",
       "    </tr>\n",
       "    <tr>\n",
       "      <th>4</th>\n",
       "      <td>-1.141852</td>\n",
       "      <td>0.503310</td>\n",
       "      <td>-2.677212</td>\n",
       "      <td>0.665181</td>\n",
       "      <td>0.294758</td>\n",
       "      <td>1.551096</td>\n",
       "      <td>5.484909</td>\n",
       "      <td>-0.020496</td>\n",
       "      <td>1.169312</td>\n",
       "      <td>-1.323886</td>\n",
       "      <td>-1.241345</td>\n",
       "      <td>4.620388</td>\n",
       "      <td>-0.527802</td>\n",
       "    </tr>\n",
       "  </tbody>\n",
       "</table>\n",
       "</div>"
      ],
      "text/plain": [
       "   Pregnancies   Glucose  BloodPressure  SkinThickness   Insulin       BMI  \\\n",
       "0     0.639947  0.864625      -0.032180       0.665181  0.311604  0.169483   \n",
       "1    -0.844885 -1.204727      -0.528124      -0.010112 -0.440843 -0.848549   \n",
       "2     1.233880  2.014265      -0.693438       0.327535  0.311604 -1.328478   \n",
       "3    -0.844885 -1.073339      -0.528124      -0.685405 -0.536303 -0.630399   \n",
       "4    -1.141852  0.503310      -2.677212       0.665181  0.294758  1.551096   \n",
       "\n",
       "   DiabetesPedigreeFunction       Age        N0        N8       N13       N12  \\\n",
       "0                  0.468492  1.425995  0.436284  0.144246 -0.561641  1.202461   \n",
       "1                 -0.365061 -0.190672 -0.455696 -0.929227 -0.538026 -0.382029   \n",
       "2                  0.604397 -0.105584 -0.512575  1.734723 -0.421674  0.440289   \n",
       "3                 -0.920763 -1.041549 -0.731491 -0.741294  0.583847 -0.952845   \n",
       "4                  5.484909 -0.020496  1.169312 -1.323886 -1.241345  4.620388   \n",
       "\n",
       "        N14  \n",
       "0 -0.023905  \n",
       "1  0.014204  \n",
       "2 -0.566853  \n",
       "3 -0.389882  \n",
       "4 -0.527802  "
      ]
     },
     "execution_count": 71,
     "metadata": {},
     "output_type": "execute_result"
    }
   ],
   "source": [
    "scaled.head()"
   ]
  },
  {
   "cell_type": "code",
   "execution_count": null,
   "metadata": {},
   "outputs": [],
   "source": []
  },
  {
   "cell_type": "code",
   "execution_count": null,
   "metadata": {},
   "outputs": [],
   "source": []
  },
  {
   "cell_type": "code",
   "execution_count": null,
   "metadata": {},
   "outputs": [],
   "source": []
  },
  {
   "cell_type": "code",
   "execution_count": null,
   "metadata": {},
   "outputs": [],
   "source": []
  },
  {
   "cell_type": "code",
   "execution_count": null,
   "metadata": {},
   "outputs": [],
   "source": []
  },
  {
   "cell_type": "code",
   "execution_count": null,
   "metadata": {},
   "outputs": [],
   "source": []
  },
  {
   "cell_type": "code",
   "execution_count": null,
   "metadata": {},
   "outputs": [],
   "source": []
  },
  {
   "cell_type": "code",
   "execution_count": null,
   "metadata": {},
   "outputs": [],
   "source": []
  },
  {
   "cell_type": "code",
   "execution_count": 72,
   "metadata": {},
   "outputs": [],
   "source": [
    "# Def X and Y\n",
    "X = df.drop('Outcome', 1)\n",
    "y = df['Outcome']"
   ]
  },
  {
   "cell_type": "code",
   "execution_count": 73,
   "metadata": {},
   "outputs": [],
   "source": [
    "from sklearn.model_selection import train_test_split\n",
    "from sklearn.metrics import confusion_matrix,classification_report,roc_curve,accuracy_score\n",
    "x_train,x_test,y_train,y_test=train_test_split(X,y,test_size=0.2,random_state=0)"
   ]
  },
  {
   "cell_type": "code",
   "execution_count": 74,
   "metadata": {},
   "outputs": [
    {
     "data": {
      "text/plain": [
       "SVC(C=1.0, cache_size=200, class_weight=None, coef0=0.0,\n",
       "    decision_function_shape='ovr', degree=3, gamma='auto_deprecated',\n",
       "    kernel='linear', max_iter=-1, probability=False, random_state=None,\n",
       "    shrinking=True, tol=0.001, verbose=False)"
      ]
     },
     "execution_count": 74,
     "metadata": {},
     "output_type": "execute_result"
    }
   ],
   "source": [
    "from sklearn.svm import SVC\n",
    "model=SVC(kernel='linear')\n",
    "model.fit(x_train,y_train)"
   ]
  },
  {
   "cell_type": "code",
   "execution_count": 75,
   "metadata": {},
   "outputs": [
    {
     "name": "stderr",
     "output_type": "stream",
     "text": [
      "/opt/conda/lib/python3.6/site-packages/sklearn/model_selection/_split.py:1978: FutureWarning: The default value of cv will change from 3 to 5 in version 0.22. Specify it explicitly to silence this warning.\n",
      "  warnings.warn(CV_WARNING, FutureWarning)\n",
      "[Parallel(n_jobs=1)]: Using backend SequentialBackend with 1 concurrent workers.\n",
      "[Parallel(n_jobs=1)]: Done   1 out of   1 | elapsed:    0.0s remaining:    0.0s\n",
      "[Parallel(n_jobs=1)]: Done   2 out of   2 | elapsed:    0.0s remaining:    0.0s\n"
     ]
    },
    {
     "name": "stdout",
     "output_type": "stream",
     "text": [
      "Fitting 3 folds for each of 25 candidates, totalling 75 fits\n",
      "[CV] C=0.1, gamma=1, kernel=rbf ......................................\n",
      "[CV] .......... C=0.1, gamma=1, kernel=rbf, score=0.639, total=   0.0s\n",
      "[CV] C=0.1, gamma=1, kernel=rbf ......................................\n",
      "[CV] .......... C=0.1, gamma=1, kernel=rbf, score=0.639, total=   0.0s\n",
      "[CV] C=0.1, gamma=1, kernel=rbf ......................................\n",
      "[CV] .......... C=0.1, gamma=1, kernel=rbf, score=0.642, total=   0.0s\n",
      "[CV] C=0.1, gamma=0.1, kernel=rbf ....................................\n",
      "[CV] ........ C=0.1, gamma=0.1, kernel=rbf, score=0.639, total=   0.0s\n",
      "[CV] C=0.1, gamma=0.1, kernel=rbf ....................................\n",
      "[CV] ........ C=0.1, gamma=0.1, kernel=rbf, score=0.639, total=   0.0s\n",
      "[CV] C=0.1, gamma=0.1, kernel=rbf ....................................\n",
      "[CV] ........ C=0.1, gamma=0.1, kernel=rbf, score=0.642, total=   0.0s\n",
      "[CV] C=0.1, gamma=0.01, kernel=rbf ...................................\n",
      "[CV] ....... C=0.1, gamma=0.01, kernel=rbf, score=0.639, total=   0.0s\n",
      "[CV] C=0.1, gamma=0.01, kernel=rbf ...................................\n",
      "[CV] ....... C=0.1, gamma=0.01, kernel=rbf, score=0.639, total=   0.0s\n",
      "[CV] C=0.1, gamma=0.01, kernel=rbf ...................................\n",
      "[CV] ....... C=0.1, gamma=0.01, kernel=rbf, score=0.642, total=   0.0s\n",
      "[CV] C=0.1, gamma=0.001, kernel=rbf ..................................\n",
      "[CV] ...... C=0.1, gamma=0.001, kernel=rbf, score=0.639, total=   0.0s\n",
      "[CV] C=0.1, gamma=0.001, kernel=rbf ..................................\n",
      "[CV] ...... C=0.1, gamma=0.001, kernel=rbf, score=0.639, total=   0.0s\n",
      "[CV] C=0.1, gamma=0.001, kernel=rbf ..................................\n",
      "[CV] ...... C=0.1, gamma=0.001, kernel=rbf, score=0.642, total=   0.0s\n",
      "[CV] C=0.1, gamma=0.0001, kernel=rbf .................................\n",
      "[CV] ..... C=0.1, gamma=0.0001, kernel=rbf, score=0.639, total=   0.0s\n",
      "[CV] C=0.1, gamma=0.0001, kernel=rbf .................................\n",
      "[CV] ..... C=0.1, gamma=0.0001, kernel=rbf, score=0.639, total=   0.0s\n",
      "[CV] C=0.1, gamma=0.0001, kernel=rbf .................................\n",
      "[CV] ..... C=0.1, gamma=0.0001, kernel=rbf, score=0.642, total=   0.0s\n",
      "[CV] C=1, gamma=1, kernel=rbf ........................................\n",
      "[CV] ............ C=1, gamma=1, kernel=rbf, score=0.639, total=   0.0s\n",
      "[CV] C=1, gamma=1, kernel=rbf ........................................\n",
      "[CV] ............ C=1, gamma=1, kernel=rbf, score=0.639, total=   0.0s\n",
      "[CV] C=1, gamma=1, kernel=rbf ........................................\n",
      "[CV] ............ C=1, gamma=1, kernel=rbf, score=0.642, total=   0.0s\n",
      "[CV] C=1, gamma=0.1, kernel=rbf ......................................\n",
      "[CV] .......... C=1, gamma=0.1, kernel=rbf, score=0.639, total=   0.0s\n",
      "[CV] C=1, gamma=0.1, kernel=rbf ......................................\n",
      "[CV] .......... C=1, gamma=0.1, kernel=rbf, score=0.639, total=   0.0s\n",
      "[CV] C=1, gamma=0.1, kernel=rbf ......................................\n",
      "[CV] .......... C=1, gamma=0.1, kernel=rbf, score=0.642, total=   0.0s\n",
      "[CV] C=1, gamma=0.01, kernel=rbf .....................................\n",
      "[CV] ......... C=1, gamma=0.01, kernel=rbf, score=0.639, total=   0.0s\n",
      "[CV] C=1, gamma=0.01, kernel=rbf .....................................\n",
      "[CV] ......... C=1, gamma=0.01, kernel=rbf, score=0.639, total=   0.0s\n",
      "[CV] C=1, gamma=0.01, kernel=rbf .....................................\n",
      "[CV] ......... C=1, gamma=0.01, kernel=rbf, score=0.642, total=   0.0s\n",
      "[CV] C=1, gamma=0.001, kernel=rbf ....................................\n",
      "[CV] ........ C=1, gamma=0.001, kernel=rbf, score=0.673, total=   0.0s\n",
      "[CV] C=1, gamma=0.001, kernel=rbf ....................................\n",
      "[CV] ........ C=1, gamma=0.001, kernel=rbf, score=0.688, total=   0.0s\n",
      "[CV] C=1, gamma=0.001, kernel=rbf ....................................\n",
      "[CV] ........ C=1, gamma=0.001, kernel=rbf, score=0.652, total=   0.0s\n",
      "[CV] C=1, gamma=0.0001, kernel=rbf ...................................\n",
      "[CV] ....... C=1, gamma=0.0001, kernel=rbf, score=0.820, total=   0.0s\n",
      "[CV] C=1, gamma=0.0001, kernel=rbf ...................................\n",
      "[CV] ....... C=1, gamma=0.0001, kernel=rbf, score=0.800, total=   0.0s\n",
      "[CV] C=1, gamma=0.0001, kernel=rbf ...................................\n",
      "[CV] ....... C=1, gamma=0.0001, kernel=rbf, score=0.784, total=   0.0s\n",
      "[CV] C=10, gamma=1, kernel=rbf .......................................\n",
      "[CV] ........... C=10, gamma=1, kernel=rbf, score=0.639, total=   0.0s\n",
      "[CV] C=10, gamma=1, kernel=rbf .......................................\n",
      "[CV] ........... C=10, gamma=1, kernel=rbf, score=0.639, total=   0.0s\n",
      "[CV] C=10, gamma=1, kernel=rbf .......................................\n",
      "[CV] ........... C=10, gamma=1, kernel=rbf, score=0.642, total=   0.0s\n",
      "[CV] C=10, gamma=0.1, kernel=rbf .....................................\n",
      "[CV] ......... C=10, gamma=0.1, kernel=rbf, score=0.639, total=   0.0s\n",
      "[CV] C=10, gamma=0.1, kernel=rbf .....................................\n",
      "[CV] ......... C=10, gamma=0.1, kernel=rbf, score=0.639, total=   0.0s\n",
      "[CV] C=10, gamma=0.1, kernel=rbf .....................................\n",
      "[CV] ......... C=10, gamma=0.1, kernel=rbf, score=0.642, total=   0.0s\n",
      "[CV] C=10, gamma=0.01, kernel=rbf ....................................\n",
      "[CV] ........ C=10, gamma=0.01, kernel=rbf, score=0.639, total=   0.0s\n",
      "[CV] C=10, gamma=0.01, kernel=rbf ....................................\n",
      "[CV] ........ C=10, gamma=0.01, kernel=rbf, score=0.639, total=   0.0s\n",
      "[CV] C=10, gamma=0.01, kernel=rbf ....................................\n",
      "[CV] ........ C=10, gamma=0.01, kernel=rbf, score=0.642, total=   0.0s\n",
      "[CV] C=10, gamma=0.001, kernel=rbf ...................................\n",
      "[CV] ....... C=10, gamma=0.001, kernel=rbf, score=0.673, total=   0.0s\n",
      "[CV] C=10, gamma=0.001, kernel=rbf ...................................\n",
      "[CV] ....... C=10, gamma=0.001, kernel=rbf, score=0.702, total=   0.0s\n",
      "[CV] C=10, gamma=0.001, kernel=rbf ...................................\n",
      "[CV] ....... C=10, gamma=0.001, kernel=rbf, score=0.676, total=   0.0s\n",
      "[CV] C=10, gamma=0.0001, kernel=rbf ..................................\n",
      "[CV] ...... C=10, gamma=0.0001, kernel=rbf, score=0.815, total=   0.0s\n",
      "[CV] C=10, gamma=0.0001, kernel=rbf ..................................\n",
      "[CV] ...... C=10, gamma=0.0001, kernel=rbf, score=0.810, total=   0.0s\n",
      "[CV] C=10, gamma=0.0001, kernel=rbf ..................................\n",
      "[CV] ...... C=10, gamma=0.0001, kernel=rbf, score=0.789, total=   0.0s\n",
      "[CV] C=100, gamma=1, kernel=rbf ......................................\n",
      "[CV] .......... C=100, gamma=1, kernel=rbf, score=0.639, total=   0.0s\n",
      "[CV] C=100, gamma=1, kernel=rbf ......................................\n",
      "[CV] .......... C=100, gamma=1, kernel=rbf, score=0.639, total=   0.0s\n",
      "[CV] C=100, gamma=1, kernel=rbf ......................................\n",
      "[CV] .......... C=100, gamma=1, kernel=rbf, score=0.642, total=   0.0s\n",
      "[CV] C=100, gamma=0.1, kernel=rbf ....................................\n",
      "[CV] ........ C=100, gamma=0.1, kernel=rbf, score=0.639, total=   0.0s\n",
      "[CV] C=100, gamma=0.1, kernel=rbf ....................................\n",
      "[CV] ........ C=100, gamma=0.1, kernel=rbf, score=0.639, total=   0.0s\n",
      "[CV] C=100, gamma=0.1, kernel=rbf ....................................\n",
      "[CV] ........ C=100, gamma=0.1, kernel=rbf, score=0.642, total=   0.0s\n",
      "[CV] C=100, gamma=0.01, kernel=rbf ...................................\n",
      "[CV] ....... C=100, gamma=0.01, kernel=rbf, score=0.639, total=   0.0s\n",
      "[CV] C=100, gamma=0.01, kernel=rbf ...................................\n",
      "[CV] ....... C=100, gamma=0.01, kernel=rbf, score=0.639, total=   0.0s\n",
      "[CV] C=100, gamma=0.01, kernel=rbf ...................................\n",
      "[CV] ....... C=100, gamma=0.01, kernel=rbf, score=0.642, total=   0.0s\n",
      "[CV] C=100, gamma=0.001, kernel=rbf ..................................\n",
      "[CV] ...... C=100, gamma=0.001, kernel=rbf, score=0.673, total=   0.0s\n",
      "[CV] C=100, gamma=0.001, kernel=rbf ..................................\n",
      "[CV] ...... C=100, gamma=0.001, kernel=rbf, score=0.702, total=   0.0s\n",
      "[CV] C=100, gamma=0.001, kernel=rbf ..................................\n",
      "[CV] ...... C=100, gamma=0.001, kernel=rbf, score=0.676, total=   0.0s\n",
      "[CV] C=100, gamma=0.0001, kernel=rbf .................................\n",
      "[CV] ..... C=100, gamma=0.0001, kernel=rbf, score=0.795, total=   0.0s\n",
      "[CV] C=100, gamma=0.0001, kernel=rbf .................................\n",
      "[CV] ..... C=100, gamma=0.0001, kernel=rbf, score=0.815, total=   0.0s\n",
      "[CV] C=100, gamma=0.0001, kernel=rbf .................................\n",
      "[CV] ..... C=100, gamma=0.0001, kernel=rbf, score=0.789, total=   0.0s\n",
      "[CV] C=1000, gamma=1, kernel=rbf .....................................\n",
      "[CV] ......... C=1000, gamma=1, kernel=rbf, score=0.639, total=   0.0s\n",
      "[CV] C=1000, gamma=1, kernel=rbf .....................................\n",
      "[CV] ......... C=1000, gamma=1, kernel=rbf, score=0.639, total=   0.0s\n",
      "[CV] C=1000, gamma=1, kernel=rbf .....................................\n",
      "[CV] ......... C=1000, gamma=1, kernel=rbf, score=0.642, total=   0.0s\n",
      "[CV] C=1000, gamma=0.1, kernel=rbf ...................................\n",
      "[CV] ....... C=1000, gamma=0.1, kernel=rbf, score=0.639, total=   0.0s\n",
      "[CV] C=1000, gamma=0.1, kernel=rbf ...................................\n",
      "[CV] ....... C=1000, gamma=0.1, kernel=rbf, score=0.639, total=   0.0s\n",
      "[CV] C=1000, gamma=0.1, kernel=rbf ...................................\n",
      "[CV] ....... C=1000, gamma=0.1, kernel=rbf, score=0.642, total=   0.0s\n",
      "[CV] C=1000, gamma=0.01, kernel=rbf ..................................\n",
      "[CV] ...... C=1000, gamma=0.01, kernel=rbf, score=0.639, total=   0.0s\n",
      "[CV] C=1000, gamma=0.01, kernel=rbf ..................................\n",
      "[CV] ...... C=1000, gamma=0.01, kernel=rbf, score=0.639, total=   0.0s\n",
      "[CV] C=1000, gamma=0.01, kernel=rbf ..................................\n",
      "[CV] ...... C=1000, gamma=0.01, kernel=rbf, score=0.642, total=   0.0s\n",
      "[CV] C=1000, gamma=0.001, kernel=rbf .................................\n",
      "[CV] ..... C=1000, gamma=0.001, kernel=rbf, score=0.673, total=   0.0s\n",
      "[CV] C=1000, gamma=0.001, kernel=rbf .................................\n",
      "[CV] ..... C=1000, gamma=0.001, kernel=rbf, score=0.702, total=   0.0s\n",
      "[CV] C=1000, gamma=0.001, kernel=rbf .................................\n",
      "[CV] ..... C=1000, gamma=0.001, kernel=rbf, score=0.676, total=   0.0s\n",
      "[CV] C=1000, gamma=0.0001, kernel=rbf ................................\n",
      "[CV] .... C=1000, gamma=0.0001, kernel=rbf, score=0.795, total=   0.0s\n",
      "[CV] C=1000, gamma=0.0001, kernel=rbf ................................\n",
      "[CV] .... C=1000, gamma=0.0001, kernel=rbf, score=0.815, total=   0.0s\n",
      "[CV] C=1000, gamma=0.0001, kernel=rbf ................................\n",
      "[CV] .... C=1000, gamma=0.0001, kernel=rbf, score=0.789, total=   0.0s\n"
     ]
    },
    {
     "name": "stderr",
     "output_type": "stream",
     "text": [
      "[Parallel(n_jobs=1)]: Done  75 out of  75 | elapsed:    1.6s finished\n"
     ]
    },
    {
     "data": {
      "text/plain": [
       "GridSearchCV(cv='warn', error_score='raise-deprecating',\n",
       "             estimator=SVC(C=1.0, cache_size=200, class_weight=None, coef0=0.0,\n",
       "                           decision_function_shape='ovr', degree=3,\n",
       "                           gamma='auto_deprecated', kernel='rbf', max_iter=-1,\n",
       "                           probability=False, random_state=None, shrinking=True,\n",
       "                           tol=0.001, verbose=False),\n",
       "             iid='warn', n_jobs=None,\n",
       "             param_grid={'C': [0.1, 1, 10, 100, 1000],\n",
       "                         'gamma': [1, 0.1, 0.01, 0.001, 0.0001],\n",
       "                         'kernel': ['rbf']},\n",
       "             pre_dispatch='2*n_jobs', refit=True, return_train_score=False,\n",
       "             scoring=None, verbose=3)"
      ]
     },
     "execution_count": 75,
     "metadata": {},
     "output_type": "execute_result"
    }
   ],
   "source": [
    "from sklearn.model_selection import GridSearchCV \n",
    "  \n",
    "# defining parameter range \n",
    "param_grid = {'C': [0.1, 1, 10, 100, 1000],  \n",
    "              'gamma': [1, 0.1, 0.01, 0.001, 0.0001], \n",
    "              'kernel': ['rbf']}  \n",
    "  \n",
    "grid = GridSearchCV(SVC(), param_grid, refit = True, verbose = 3) \n",
    "  \n",
    "# fitting the model for grid search \n",
    "grid.fit(x_train, y_train) \n"
   ]
  },
  {
   "cell_type": "code",
   "execution_count": 76,
   "metadata": {},
   "outputs": [
    {
     "name": "stdout",
     "output_type": "stream",
     "text": [
      "{'C': 10, 'gamma': 0.0001, 'kernel': 'rbf'}\n"
     ]
    }
   ],
   "source": [
    "print(grid.best_params_) "
   ]
  },
  {
   "cell_type": "code",
   "execution_count": 77,
   "metadata": {},
   "outputs": [
    {
     "name": "stdout",
     "output_type": "stream",
     "text": [
      "SVC(C=10, cache_size=200, class_weight=None, coef0=0.0,\n",
      "    decision_function_shape='ovr', degree=3, gamma=0.0001, kernel='rbf',\n",
      "    max_iter=-1, probability=False, random_state=None, shrinking=True,\n",
      "    tol=0.001, verbose=False)\n"
     ]
    }
   ],
   "source": [
    "print(grid.best_estimator_) "
   ]
  },
  {
   "cell_type": "code",
   "execution_count": 78,
   "metadata": {},
   "outputs": [
    {
     "data": {
      "text/plain": [
       "SVC(C=1.0, cache_size=200, class_weight=None, coef0=0.0,\n",
       "    decision_function_shape='ovr', degree=3, gamma='auto_deprecated',\n",
       "    kernel='linear', max_iter=-1, probability=False, random_state=None,\n",
       "    shrinking=True, tol=0.001, verbose=False)"
      ]
     },
     "execution_count": 78,
     "metadata": {},
     "output_type": "execute_result"
    }
   ],
   "source": [
    "model=SVC(C=1.0, cache_size=200, class_weight=None, coef0=0.0,\n",
    "                           decision_function_shape='ovr', degree=3,\n",
    "                           gamma='auto_deprecated', kernel='linear', max_iter=-1,\n",
    "                           probability=False, random_state=None, shrinking=True,\n",
    "                           tol=0.001, verbose=False)\n",
    "model.fit(x_train,y_train)"
   ]
  },
  {
   "cell_type": "code",
   "execution_count": null,
   "metadata": {},
   "outputs": [],
   "source": []
  },
  {
   "cell_type": "code",
   "execution_count": null,
   "metadata": {},
   "outputs": [],
   "source": []
  },
  {
   "cell_type": "code",
   "execution_count": null,
   "metadata": {},
   "outputs": [],
   "source": []
  },
  {
   "cell_type": "code",
   "execution_count": null,
   "metadata": {},
   "outputs": [],
   "source": []
  },
  {
   "cell_type": "code",
   "execution_count": null,
   "metadata": {},
   "outputs": [],
   "source": []
  },
  {
   "cell_type": "code",
   "execution_count": 79,
   "metadata": {},
   "outputs": [],
   "source": [
    "y_pred=model.predict(x_test)"
   ]
  },
  {
   "cell_type": "code",
   "execution_count": 80,
   "metadata": {},
   "outputs": [
    {
     "data": {
      "text/plain": [
       "array([[99,  8],\n",
       "       [ 3, 44]])"
      ]
     },
     "execution_count": 80,
     "metadata": {},
     "output_type": "execute_result"
    }
   ],
   "source": [
    "confusion_matrix(y_test,y_pred)"
   ]
  },
  {
   "cell_type": "code",
   "execution_count": 81,
   "metadata": {},
   "outputs": [
    {
     "data": {
      "text/plain": [
       "0.9285714285714286"
      ]
     },
     "execution_count": 81,
     "metadata": {},
     "output_type": "execute_result"
    }
   ],
   "source": [
    "accuracy_score(y_test,y_pred)"
   ]
  },
  {
   "cell_type": "code",
   "execution_count": 82,
   "metadata": {},
   "outputs": [],
   "source": [
    "from sklearn.metrics import classification_report"
   ]
  },
  {
   "cell_type": "code",
   "execution_count": 83,
   "metadata": {},
   "outputs": [
    {
     "name": "stdout",
     "output_type": "stream",
     "text": [
      "              precision    recall  f1-score   support\n",
      "\n",
      "           0       0.97      0.93      0.95       107\n",
      "           1       0.85      0.94      0.89        47\n",
      "\n",
      "    accuracy                           0.93       154\n",
      "   macro avg       0.91      0.93      0.92       154\n",
      "weighted avg       0.93      0.93      0.93       154\n",
      "\n"
     ]
    }
   ],
   "source": [
    "print(classification_report(y_test, y_pred))"
   ]
  },
  {
   "cell_type": "code",
   "execution_count": null,
   "metadata": {},
   "outputs": [],
   "source": []
  },
  {
   "cell_type": "code",
   "execution_count": null,
   "metadata": {},
   "outputs": [],
   "source": []
  },
  {
   "cell_type": "code",
   "execution_count": null,
   "metadata": {},
   "outputs": [],
   "source": []
  },
  {
   "cell_type": "code",
   "execution_count": null,
   "metadata": {},
   "outputs": [],
   "source": []
  },
  {
   "cell_type": "code",
   "execution_count": 84,
   "metadata": {},
   "outputs": [],
   "source": [
    " from sklearn.neighbors import KNeighborsClassifier\n",
    "harsh=KNeighborsClassifier(n_neighbors=25)"
   ]
  },
  {
   "cell_type": "code",
   "execution_count": 85,
   "metadata": {},
   "outputs": [
    {
     "data": {
      "text/plain": [
       "KNeighborsClassifier(algorithm='auto', leaf_size=30, metric='minkowski',\n",
       "                     metric_params=None, n_jobs=None, n_neighbors=25, p=2,\n",
       "                     weights='uniform')"
      ]
     },
     "execution_count": 85,
     "metadata": {},
     "output_type": "execute_result"
    }
   ],
   "source": [
    "harsh.fit(x_train,y_train)"
   ]
  },
  {
   "cell_type": "code",
   "execution_count": 86,
   "metadata": {},
   "outputs": [],
   "source": [
    "y_pred=harsh.predict(x_test)"
   ]
  },
  {
   "cell_type": "code",
   "execution_count": 87,
   "metadata": {},
   "outputs": [
    {
     "data": {
      "text/plain": [
       "array([[89, 18],\n",
       "       [18, 29]])"
      ]
     },
     "execution_count": 87,
     "metadata": {},
     "output_type": "execute_result"
    }
   ],
   "source": [
    "confusion_matrix(y_test,y_pred)\n"
   ]
  },
  {
   "cell_type": "code",
   "execution_count": 88,
   "metadata": {},
   "outputs": [
    {
     "data": {
      "text/plain": [
       "0.7662337662337663"
      ]
     },
     "execution_count": 88,
     "metadata": {},
     "output_type": "execute_result"
    }
   ],
   "source": [
    "accuracy_score(y_test,y_pred)"
   ]
  },
  {
   "cell_type": "code",
   "execution_count": 89,
   "metadata": {},
   "outputs": [],
   "source": [
    " from sklearn.linear_model import LogisticRegression\n",
    "from sklearn.naive_bayes import GaussianNB\n",
    "from sklearn.ensemble import RandomForestClassifier, VotingClassifier"
   ]
  },
  {
   "cell_type": "code",
   "execution_count": 90,
   "metadata": {},
   "outputs": [
    {
     "ename": "SyntaxError",
     "evalue": "invalid syntax (<ipython-input-90-ec50c3fef93c>, line 3)",
     "output_type": "error",
     "traceback": [
      "\u001b[0;36m  File \u001b[0;32m\"<ipython-input-90-ec50c3fef93c>\"\u001b[0;36m, line \u001b[0;32m3\u001b[0m\n\u001b[0;31m    weights = [1,1]))\u001b[0m\n\u001b[0m                    ^\u001b[0m\n\u001b[0;31mSyntaxError\u001b[0m\u001b[0;31m:\u001b[0m invalid syntax\n"
     ]
    }
   ],
   "source": [
    "knn_clf = KNeighborsClassifier(n_neighbors = 25)\n",
    "harsh=VotingClassifier(estimators = [('knn', knn_clf), ('lgbm', lgbm_clf)],\n",
    "                      weights = [1,1]))"
   ]
  },
  {
   "cell_type": "code",
   "execution_count": null,
   "metadata": {},
   "outputs": [],
   "source": []
  },
  {
   "cell_type": "code",
   "execution_count": null,
   "metadata": {},
   "outputs": [],
   "source": []
  },
  {
   "cell_type": "code",
   "execution_count": null,
   "metadata": {},
   "outputs": [],
   "source": []
  },
  {
   "cell_type": "code",
   "execution_count": null,
   "metadata": {},
   "outputs": [],
   "source": []
  },
  {
   "cell_type": "code",
   "execution_count": 91,
   "metadata": {},
   "outputs": [],
   "source": [
    "df['Insulin']=df['Insulin'].fillna(df['Insulin'].median())"
   ]
  },
  {
   "cell_type": "code",
   "execution_count": 92,
   "metadata": {},
   "outputs": [],
   "source": [
    "df['SkinThickness']=df['SkinThickness'].fillna(df['SkinThickness'].median())"
   ]
  },
  {
   "cell_type": "code",
   "execution_count": 93,
   "metadata": {},
   "outputs": [],
   "source": [
    "df['BloodPressure']=df['BloodPressure'].fillna(df['BloodPressure'].median())"
   ]
  },
  {
   "cell_type": "code",
   "execution_count": 94,
   "metadata": {},
   "outputs": [],
   "source": [
    "df['BMI']=df['BMI'].fillna(df['BMI'].median())"
   ]
  },
  {
   "cell_type": "code",
   "execution_count": 95,
   "metadata": {},
   "outputs": [],
   "source": [
    "df['Glucose']=df['Glucose'].fillna(df['Glucose'].median())"
   ]
  },
  {
   "cell_type": "code",
   "execution_count": 96,
   "metadata": {},
   "outputs": [
    {
     "data": {
      "text/plain": [
       "Pregnancies                 0\n",
       "Glucose                     0\n",
       "BloodPressure               0\n",
       "SkinThickness               0\n",
       "Insulin                     0\n",
       "BMI                         0\n",
       "DiabetesPedigreeFunction    0\n",
       "Age                         0\n",
       "Outcome                     0\n",
       "N1                          0\n",
       "N2                          0\n",
       "N3                          0\n",
       "N4                          0\n",
       "N5                          0\n",
       "N6                          0\n",
       "N7                          0\n",
       "N9                          0\n",
       "N10                         0\n",
       "N11                         0\n",
       "N0                          0\n",
       "N8                          0\n",
       "N13                         0\n",
       "N12                         0\n",
       "N14                         0\n",
       "N15                         0\n",
       "dtype: int64"
      ]
     },
     "execution_count": 96,
     "metadata": {},
     "output_type": "execute_result"
    }
   ],
   "source": [
    "df.isnull().sum()"
   ]
  },
  {
   "cell_type": "code",
   "execution_count": 97,
   "metadata": {},
   "outputs": [
    {
     "data": {
      "image/png": "[encoded data removed]",
      "text/plain": [
       "<Figure size 792x1080 with 1 Axes>"
      ]
     },
     "metadata": {},
     "output_type": "display_data"
    }
   ],
   "source": [
    "plt.style.use('ggplot') # Using ggplot2 style visuals \n",
    "\n",
    "f, ax = plt.subplots(figsize=(11, 15))\n",
    "\n",
    "ax.set_facecolor('#fafafa')\n",
    "ax.set(xlim=(-.05, 200))\n",
    "plt.ylabel('Variables')\n",
    "plt.title(\"Overview Data Set\")\n",
    "ax = sns.boxplot(data = df, \n",
    "  orient = 'h', \n",
    "  palette = 'Set2')"
   ]
  },
  {
   "cell_type": "markdown",
   "metadata": {},
   "source": [
    "median_target('Insulin')"
   ]
  },
  {
   "cell_type": "code",
   "execution_count": 98,
   "metadata": {},
   "outputs": [
    {
     "ename": "NameError",
     "evalue": "name 'plot_distribution' is not defined",
     "output_type": "error",
     "traceback": [
      "\u001b[0;31m---------------------------------------------------------------------------\u001b[0m",
      "\u001b[0;31mNameError\u001b[0m                                 Traceback (most recent call last)",
      "\u001b[0;32m<ipython-input-98-4a5e149ace6c>\u001b[0m in \u001b[0;36m<module>\u001b[0;34m\u001b[0m\n\u001b[0;32m----> 1\u001b[0;31m \u001b[0mplot_distribution\u001b[0m\u001b[0;34m(\u001b[0m\u001b[0;34m'Glucose'\u001b[0m\u001b[0;34m,\u001b[0m \u001b[0;36m0\u001b[0m\u001b[0;34m)\u001b[0m\u001b[0;34m\u001b[0m\u001b[0m\n\u001b[0m",
      "\u001b[0;31mNameError\u001b[0m: name 'plot_distribution' is not defined"
     ]
    }
   ],
   "source": [
    "plot_distribution('Glucose', 0)"
   ]
  },
  {
   "cell_type": "code",
   "execution_count": null,
   "metadata": {},
   "outputs": [],
   "source": []
  }
 ],
 "metadata": {
  "kernelspec": {
   "display_name": "Python 3",
   "language": "python",
   "name": "python3"
  },
  "language_info": {
   "codemirror_mode": {
    "name": "ipython",
    "version": 3
   },
   "file_extension": ".py",
   "mimetype": "text/x-python",
   "name": "python",
   "nbconvert_exporter": "python",
   "pygments_lexer": "ipython3",
   "version": "3.7.4"
  }
 },
 "nbformat": 4,
 "nbformat_minor": 1
}
